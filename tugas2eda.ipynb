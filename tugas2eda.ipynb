{
 "cells": [
  {
   "cell_type": "markdown",
   "metadata": {},
   "source": [
    "# **Membangun Model Deteksi Penipuan (Fraud) Kartu Kredit dengan Teknik Machine Learning**"
   ]
  },
  {
   "cell_type": "markdown",
   "metadata": {},
   "source": [
    "## Tanggal"
   ]
  },
  {
   "cell_type": "markdown",
   "metadata": {},
   "source": [
    "## Kelompok 3\n",
    "1. Boy Aditya Rohmaulana (2203488)\n",
    "2. Defrizal Yahdiyan Risyad (2206131)\n",
    "3. Muhamad Furqon Al-Haqqi (2207207)\n",
    "4. Raya Cahya Nurani (2205714)\n",
    "5. Septiani Eka Putri (2206000"
   ]
  },
  {
   "cell_type": "markdown",
   "metadata": {},
   "source": [
    "## Pendahuluan\n"
   ]
  },
  {
   "cell_type": "markdown",
   "metadata": {},
   "source": [
    "## Preparation"
   ]
  },
  {
   "cell_type": "markdown",
   "metadata": {},
   "source": [
    "Import library"
   ]
  },
  {
   "cell_type": "code",
   "execution_count": 95,
   "metadata": {},
   "outputs": [],
   "source": [
    "import pandas as pd\n",
    "import numpy as np\n",
    "import seaborn as sns\n",
    "import matplotlib.pyplot as plt\n",
    "import calendar\n",
    "from datetime import datetime\n",
    "%matplotlib inline\n",
    "\n",
    "import warnings\n",
    "warnings.filterwarnings(\"ignore\")"
   ]
  },
  {
   "cell_type": "markdown",
   "metadata": {},
   "source": [
    "Import Dataset"
   ]
  },
  {
   "cell_type": "code",
   "execution_count": 96,
   "metadata": {},
   "outputs": [],
   "source": [
    "train = pd.read_csv(\"fraud_train.txt\")"
   ]
  },
  {
   "cell_type": "markdown",
   "metadata": {},
   "source": [
    "## 1. Data Understanding"
   ]
  },
  {
   "cell_type": "markdown",
   "metadata": {},
   "source": [
    "Melihat dimensi data"
   ]
  },
  {
   "cell_type": "code",
   "execution_count": 97,
   "metadata": {},
   "outputs": [
    {
     "name": "stdout",
     "output_type": "stream",
     "text": [
      "Dimensi data:  (13125, 28)\n"
     ]
    }
   ],
   "source": [
    "print('Dimensi data: ', train.shape)"
   ]
  },
  {
   "cell_type": "code",
   "execution_count": 98,
   "metadata": {},
   "outputs": [],
   "source": [
    "# Mengatur display maksimum kolom yang bisa ditampilkan\n",
    "pd.set_option('display.max_columns', 28) "
   ]
  },
  {
   "cell_type": "code",
   "execution_count": 99,
   "metadata": {},
   "outputs": [
    {
     "data": {
      "text/html": [
       "<div>\n",
       "<style scoped>\n",
       "    .dataframe tbody tr th:only-of-type {\n",
       "        vertical-align: middle;\n",
       "    }\n",
       "\n",
       "    .dataframe tbody tr th {\n",
       "        vertical-align: top;\n",
       "    }\n",
       "\n",
       "    .dataframe thead th {\n",
       "        text-align: right;\n",
       "    }\n",
       "</style>\n",
       "<table border=\"1\" class=\"dataframe\">\n",
       "  <thead>\n",
       "    <tr style=\"text-align: right;\">\n",
       "      <th></th>\n",
       "      <th>X</th>\n",
       "      <th>id_tanggal_transaksi_awal</th>\n",
       "      <th>tanggal_transaksi_awal</th>\n",
       "      <th>tipe_kartu</th>\n",
       "      <th>id_merchant</th>\n",
       "      <th>nama_merchant</th>\n",
       "      <th>tipe_mesin</th>\n",
       "      <th>tipe_transaksi</th>\n",
       "      <th>nama_transaksi</th>\n",
       "      <th>nilai_transaksi</th>\n",
       "      <th>id_negara</th>\n",
       "      <th>nama_negara</th>\n",
       "      <th>nama_kota</th>\n",
       "      <th>lokasi_mesin</th>\n",
       "      <th>pemilik_mesin</th>\n",
       "      <th>waktu_transaksi</th>\n",
       "      <th>kuartal_transaksi</th>\n",
       "      <th>kepemilikan_kartu</th>\n",
       "      <th>nama_channel</th>\n",
       "      <th>id_channel</th>\n",
       "      <th>flag_transaksi_finansial</th>\n",
       "      <th>status_transaksi</th>\n",
       "      <th>bank_pemilik_kartu</th>\n",
       "      <th>rata_rata_nilai_transaksi</th>\n",
       "      <th>maksimum_nilai_transaksi</th>\n",
       "      <th>minimum_nilai_transaksi</th>\n",
       "      <th>rata_rata_jumlah_transaksi</th>\n",
       "      <th>flag_transaksi_fraud</th>\n",
       "    </tr>\n",
       "  </thead>\n",
       "  <tbody>\n",
       "    <tr>\n",
       "      <th>0</th>\n",
       "      <td>4676</td>\n",
       "      <td>2457646</td>\n",
       "      <td>2457726</td>\n",
       "      <td>111</td>\n",
       "      <td>-2</td>\n",
       "      <td>1798</td>\n",
       "      <td>2605127</td>\n",
       "      <td>26</td>\n",
       "      <td>10</td>\n",
       "      <td>2200000.0</td>\n",
       "      <td>96</td>\n",
       "      <td>5</td>\n",
       "      <td>265</td>\n",
       "      <td>4137</td>\n",
       "      <td>613</td>\n",
       "      <td>193955</td>\n",
       "      <td>4</td>\n",
       "      <td>2</td>\n",
       "      <td>1</td>\n",
       "      <td>9</td>\n",
       "      <td>False</td>\n",
       "      <td>3</td>\n",
       "      <td>999</td>\n",
       "      <td>1.332293e+06</td>\n",
       "      <td>9750000.0</td>\n",
       "      <td>10000.0</td>\n",
       "      <td>2.73</td>\n",
       "      <td>0</td>\n",
       "    </tr>\n",
       "    <tr>\n",
       "      <th>1</th>\n",
       "      <td>788</td>\n",
       "      <td>2457419</td>\n",
       "      <td>2457507</td>\n",
       "      <td>111</td>\n",
       "      <td>-2</td>\n",
       "      <td>1798</td>\n",
       "      <td>-3</td>\n",
       "      <td>156</td>\n",
       "      <td>12</td>\n",
       "      <td>2500000.0</td>\n",
       "      <td>96</td>\n",
       "      <td>5</td>\n",
       "      <td>121</td>\n",
       "      <td>1264</td>\n",
       "      <td>2196</td>\n",
       "      <td>73140</td>\n",
       "      <td>2</td>\n",
       "      <td>1</td>\n",
       "      <td>5</td>\n",
       "      <td>8</td>\n",
       "      <td>False</td>\n",
       "      <td>3</td>\n",
       "      <td>999</td>\n",
       "      <td>1.369048e+06</td>\n",
       "      <td>10000000.0</td>\n",
       "      <td>30000.0</td>\n",
       "      <td>2.33</td>\n",
       "      <td>1</td>\n",
       "    </tr>\n",
       "    <tr>\n",
       "      <th>2</th>\n",
       "      <td>1520</td>\n",
       "      <td>2457521</td>\n",
       "      <td>2457612</td>\n",
       "      <td>2</td>\n",
       "      <td>-2</td>\n",
       "      <td>1798</td>\n",
       "      <td>-3</td>\n",
       "      <td>156</td>\n",
       "      <td>12</td>\n",
       "      <td>1200000.0</td>\n",
       "      <td>96</td>\n",
       "      <td>5</td>\n",
       "      <td>101</td>\n",
       "      <td>1283</td>\n",
       "      <td>2049</td>\n",
       "      <td>140216</td>\n",
       "      <td>3</td>\n",
       "      <td>1</td>\n",
       "      <td>5</td>\n",
       "      <td>8</td>\n",
       "      <td>False</td>\n",
       "      <td>3</td>\n",
       "      <td>999</td>\n",
       "      <td>1.552346e+07</td>\n",
       "      <td>100000000.0</td>\n",
       "      <td>41804.0</td>\n",
       "      <td>2.40</td>\n",
       "      <td>0</td>\n",
       "    </tr>\n",
       "    <tr>\n",
       "      <th>3</th>\n",
       "      <td>9346</td>\n",
       "      <td>2457659</td>\n",
       "      <td>2457746</td>\n",
       "      <td>103</td>\n",
       "      <td>75336</td>\n",
       "      <td>249</td>\n",
       "      <td>2806174</td>\n",
       "      <td>58</td>\n",
       "      <td>6</td>\n",
       "      <td>320000.0</td>\n",
       "      <td>96</td>\n",
       "      <td>5</td>\n",
       "      <td>239</td>\n",
       "      <td>7049</td>\n",
       "      <td>588</td>\n",
       "      <td>155117</td>\n",
       "      <td>3</td>\n",
       "      <td>2</td>\n",
       "      <td>2</td>\n",
       "      <td>4</td>\n",
       "      <td>False</td>\n",
       "      <td>3</td>\n",
       "      <td>999</td>\n",
       "      <td>7.117647e+05</td>\n",
       "      <td>6884408.0</td>\n",
       "      <td>10000.0</td>\n",
       "      <td>1.98</td>\n",
       "      <td>0</td>\n",
       "    </tr>\n",
       "    <tr>\n",
       "      <th>4</th>\n",
       "      <td>2914</td>\n",
       "      <td>2457311</td>\n",
       "      <td>2457385</td>\n",
       "      <td>0</td>\n",
       "      <td>-2</td>\n",
       "      <td>1798</td>\n",
       "      <td>2334932</td>\n",
       "      <td>26</td>\n",
       "      <td>10</td>\n",
       "      <td>150000.0</td>\n",
       "      <td>96</td>\n",
       "      <td>5</td>\n",
       "      <td>69</td>\n",
       "      <td>3425</td>\n",
       "      <td>613</td>\n",
       "      <td>143339</td>\n",
       "      <td>3</td>\n",
       "      <td>2</td>\n",
       "      <td>1</td>\n",
       "      <td>9</td>\n",
       "      <td>False</td>\n",
       "      <td>3</td>\n",
       "      <td>999</td>\n",
       "      <td>6.179683e+05</td>\n",
       "      <td>2500000.0</td>\n",
       "      <td>100000.0</td>\n",
       "      <td>1.46</td>\n",
       "      <td>0</td>\n",
       "    </tr>\n",
       "  </tbody>\n",
       "</table>\n",
       "</div>"
      ],
      "text/plain": [
       "      X  id_tanggal_transaksi_awal  tanggal_transaksi_awal  tipe_kartu  \\\n",
       "0  4676                    2457646                 2457726         111   \n",
       "1   788                    2457419                 2457507         111   \n",
       "2  1520                    2457521                 2457612           2   \n",
       "3  9346                    2457659                 2457746         103   \n",
       "4  2914                    2457311                 2457385           0   \n",
       "\n",
       "   id_merchant  nama_merchant  tipe_mesin  tipe_transaksi  nama_transaksi  \\\n",
       "0           -2           1798     2605127              26              10   \n",
       "1           -2           1798          -3             156              12   \n",
       "2           -2           1798          -3             156              12   \n",
       "3        75336            249     2806174              58               6   \n",
       "4           -2           1798     2334932              26              10   \n",
       "\n",
       "   nilai_transaksi  id_negara  nama_negara  nama_kota  lokasi_mesin  \\\n",
       "0        2200000.0         96            5        265          4137   \n",
       "1        2500000.0         96            5        121          1264   \n",
       "2        1200000.0         96            5        101          1283   \n",
       "3         320000.0         96            5        239          7049   \n",
       "4         150000.0         96            5         69          3425   \n",
       "\n",
       "   pemilik_mesin  waktu_transaksi  kuartal_transaksi  kepemilikan_kartu  \\\n",
       "0            613           193955                  4                  2   \n",
       "1           2196            73140                  2                  1   \n",
       "2           2049           140216                  3                  1   \n",
       "3            588           155117                  3                  2   \n",
       "4            613           143339                  3                  2   \n",
       "\n",
       "   nama_channel  id_channel  flag_transaksi_finansial  status_transaksi  \\\n",
       "0             1           9                     False                 3   \n",
       "1             5           8                     False                 3   \n",
       "2             5           8                     False                 3   \n",
       "3             2           4                     False                 3   \n",
       "4             1           9                     False                 3   \n",
       "\n",
       "   bank_pemilik_kartu  rata_rata_nilai_transaksi  maksimum_nilai_transaksi  \\\n",
       "0                 999               1.332293e+06                 9750000.0   \n",
       "1                 999               1.369048e+06                10000000.0   \n",
       "2                 999               1.552346e+07               100000000.0   \n",
       "3                 999               7.117647e+05                 6884408.0   \n",
       "4                 999               6.179683e+05                 2500000.0   \n",
       "\n",
       "   minimum_nilai_transaksi  rata_rata_jumlah_transaksi  flag_transaksi_fraud  \n",
       "0                  10000.0                        2.73                     0  \n",
       "1                  30000.0                        2.33                     1  \n",
       "2                  41804.0                        2.40                     0  \n",
       "3                  10000.0                        1.98                     0  \n",
       "4                 100000.0                        1.46                     0  "
      ]
     },
     "execution_count": 99,
     "metadata": {},
     "output_type": "execute_result"
    }
   ],
   "source": [
    "train.head()"
   ]
  },
  {
   "cell_type": "code",
   "execution_count": 100,
   "metadata": {},
   "outputs": [
    {
     "data": {
      "text/plain": [
       "Index(['X', 'id_tanggal_transaksi_awal', 'tanggal_transaksi_awal',\n",
       "       'tipe_kartu', 'id_merchant', 'nama_merchant', 'tipe_mesin',\n",
       "       'tipe_transaksi', 'nama_transaksi', 'nilai_transaksi', 'id_negara',\n",
       "       'nama_negara', 'nama_kota', 'lokasi_mesin', 'pemilik_mesin',\n",
       "       'waktu_transaksi', 'kuartal_transaksi', 'kepemilikan_kartu',\n",
       "       'nama_channel', 'id_channel', 'flag_transaksi_finansial',\n",
       "       'status_transaksi', 'bank_pemilik_kartu', 'rata_rata_nilai_transaksi',\n",
       "       'maksimum_nilai_transaksi', 'minimum_nilai_transaksi',\n",
       "       'rata_rata_jumlah_transaksi', 'flag_transaksi_fraud'],\n",
       "      dtype='object')"
      ]
     },
     "execution_count": 100,
     "metadata": {},
     "output_type": "execute_result"
    }
   ],
   "source": [
    "train.columns"
   ]
  },
  {
   "cell_type": "markdown",
   "metadata": {},
   "source": [
    "### Penjelasan Fitur\n",
    "- X\n",
    "- id_tanggal_transaksi_awal\n",
    "- tanggal_transaksi_awal\n",
    "- tipe_kartu\n",
    "- id_merchant\n",
    "- nama_merchant\n",
    "- tipe_mesin\n",
    "- tipe_transaksi\n",
    "- nama_transaksi\n",
    "- nilai_transaksi\n",
    "- id_negara\n",
    "- nama_negara\n",
    "- nama_kota\n",
    "- lokasi_mesin\n",
    "- pemilik_mesin\n",
    "- waktu_transaksi\n",
    "- kuartal_transaksi\n",
    "- kepemilikan_kartu\n",
    "- nama_channel\n",
    "- id_channel\n",
    "- flag_transaksi_finansial\n",
    "- status_transaksi\n",
    "- bank_pemilik_kartu\n",
    "- rata_rata_nilai_transaksi\n",
    "- maksimum_nilai_transaksi\n",
    "- minimum_nilai_transaksi\n",
    "- rata_rata_jumlah_transaksi\n",
    "- flag_transaksi_fraud"
   ]
  },
  {
   "cell_type": "markdown",
   "metadata": {},
   "source": [
    "Melihat Informasi Data"
   ]
  },
  {
   "cell_type": "code",
   "execution_count": 101,
   "metadata": {},
   "outputs": [
    {
     "name": "stdout",
     "output_type": "stream",
     "text": [
      "<class 'pandas.core.frame.DataFrame'>\n",
      "RangeIndex: 13125 entries, 0 to 13124\n",
      "Data columns (total 28 columns):\n",
      " #   Column                      Non-Null Count  Dtype  \n",
      "---  ------                      --------------  -----  \n",
      " 0   X                           13125 non-null  int64  \n",
      " 1   id_tanggal_transaksi_awal   13125 non-null  int64  \n",
      " 2   tanggal_transaksi_awal      13125 non-null  int64  \n",
      " 3   tipe_kartu                  13125 non-null  int64  \n",
      " 4   id_merchant                 13125 non-null  int64  \n",
      " 5   nama_merchant               13125 non-null  int64  \n",
      " 6   tipe_mesin                  13125 non-null  int64  \n",
      " 7   tipe_transaksi              13125 non-null  int64  \n",
      " 8   nama_transaksi              13125 non-null  int64  \n",
      " 9   nilai_transaksi             13125 non-null  float64\n",
      " 10  id_negara                   13125 non-null  int64  \n",
      " 11  nama_negara                 13125 non-null  int64  \n",
      " 12  nama_kota                   13125 non-null  int64  \n",
      " 13  lokasi_mesin                13125 non-null  int64  \n",
      " 14  pemilik_mesin               13125 non-null  int64  \n",
      " 15  waktu_transaksi             13125 non-null  int64  \n",
      " 16  kuartal_transaksi           13125 non-null  int64  \n",
      " 17  kepemilikan_kartu           13125 non-null  int64  \n",
      " 18  nama_channel                13125 non-null  int64  \n",
      " 19  id_channel                  13125 non-null  int64  \n",
      " 20  flag_transaksi_finansial    13125 non-null  bool   \n",
      " 21  status_transaksi            13125 non-null  int64  \n",
      " 22  bank_pemilik_kartu          13125 non-null  int64  \n",
      " 23  rata_rata_nilai_transaksi   13104 non-null  float64\n",
      " 24  maksimum_nilai_transaksi    13104 non-null  float64\n",
      " 25  minimum_nilai_transaksi     13104 non-null  float64\n",
      " 26  rata_rata_jumlah_transaksi  13104 non-null  float64\n",
      " 27  flag_transaksi_fraud        13125 non-null  int64  \n",
      "dtypes: bool(1), float64(5), int64(22)\n",
      "memory usage: 2.7 MB\n"
     ]
    }
   ],
   "source": [
    "train.info()"
   ]
  },
  {
   "cell_type": "markdown",
   "metadata": {},
   "source": [
    "Melihat Ringkasan Statistik Deskriptif"
   ]
  },
  {
   "cell_type": "code",
   "execution_count": 102,
   "metadata": {},
   "outputs": [
    {
     "data": {
      "text/html": [
       "<div>\n",
       "<style scoped>\n",
       "    .dataframe tbody tr th:only-of-type {\n",
       "        vertical-align: middle;\n",
       "    }\n",
       "\n",
       "    .dataframe tbody tr th {\n",
       "        vertical-align: top;\n",
       "    }\n",
       "\n",
       "    .dataframe thead th {\n",
       "        text-align: right;\n",
       "    }\n",
       "</style>\n",
       "<table border=\"1\" class=\"dataframe\">\n",
       "  <thead>\n",
       "    <tr style=\"text-align: right;\">\n",
       "      <th></th>\n",
       "      <th>X</th>\n",
       "      <th>id_tanggal_transaksi_awal</th>\n",
       "      <th>tanggal_transaksi_awal</th>\n",
       "      <th>tipe_kartu</th>\n",
       "      <th>id_merchant</th>\n",
       "      <th>nama_merchant</th>\n",
       "      <th>tipe_mesin</th>\n",
       "      <th>tipe_transaksi</th>\n",
       "      <th>nama_transaksi</th>\n",
       "      <th>nilai_transaksi</th>\n",
       "      <th>id_negara</th>\n",
       "      <th>nama_negara</th>\n",
       "      <th>nama_kota</th>\n",
       "      <th>lokasi_mesin</th>\n",
       "      <th>pemilik_mesin</th>\n",
       "      <th>waktu_transaksi</th>\n",
       "      <th>kuartal_transaksi</th>\n",
       "      <th>kepemilikan_kartu</th>\n",
       "      <th>nama_channel</th>\n",
       "      <th>id_channel</th>\n",
       "      <th>status_transaksi</th>\n",
       "      <th>bank_pemilik_kartu</th>\n",
       "      <th>rata_rata_nilai_transaksi</th>\n",
       "      <th>maksimum_nilai_transaksi</th>\n",
       "      <th>minimum_nilai_transaksi</th>\n",
       "      <th>rata_rata_jumlah_transaksi</th>\n",
       "      <th>flag_transaksi_fraud</th>\n",
       "    </tr>\n",
       "  </thead>\n",
       "  <tbody>\n",
       "    <tr>\n",
       "      <th>count</th>\n",
       "      <td>13125.000000</td>\n",
       "      <td>1.312500e+04</td>\n",
       "      <td>1.312500e+04</td>\n",
       "      <td>13125.000000</td>\n",
       "      <td>13125.000000</td>\n",
       "      <td>13125.000000</td>\n",
       "      <td>1.312500e+04</td>\n",
       "      <td>13125.000000</td>\n",
       "      <td>13125.000000</td>\n",
       "      <td>1.312500e+04</td>\n",
       "      <td>13125.000000</td>\n",
       "      <td>13125.000000</td>\n",
       "      <td>13125.000000</td>\n",
       "      <td>13125.000000</td>\n",
       "      <td>13125.000000</td>\n",
       "      <td>13125.000000</td>\n",
       "      <td>13125.000000</td>\n",
       "      <td>13125.000000</td>\n",
       "      <td>13125.000000</td>\n",
       "      <td>13125.000000</td>\n",
       "      <td>13125.0</td>\n",
       "      <td>13125.0</td>\n",
       "      <td>1.310400e+04</td>\n",
       "      <td>1.310400e+04</td>\n",
       "      <td>1.310400e+04</td>\n",
       "      <td>13104.000000</td>\n",
       "      <td>13125.000000</td>\n",
       "    </tr>\n",
       "    <tr>\n",
       "      <th>mean</th>\n",
       "      <td>7507.821943</td>\n",
       "      <td>2.457490e+06</td>\n",
       "      <td>2.457541e+06</td>\n",
       "      <td>85.340114</td>\n",
       "      <td>39300.900876</td>\n",
       "      <td>1678.483886</td>\n",
       "      <td>1.649037e+06</td>\n",
       "      <td>178.778362</td>\n",
       "      <td>10.729524</td>\n",
       "      <td>1.315219e+06</td>\n",
       "      <td>96.057981</td>\n",
       "      <td>5.019581</td>\n",
       "      <td>148.295543</td>\n",
       "      <td>3947.520457</td>\n",
       "      <td>766.033448</td>\n",
       "      <td>138895.669638</td>\n",
       "      <td>2.854857</td>\n",
       "      <td>1.932267</td>\n",
       "      <td>1.404267</td>\n",
       "      <td>8.237410</td>\n",
       "      <td>3.0</td>\n",
       "      <td>999.0</td>\n",
       "      <td>1.364132e+06</td>\n",
       "      <td>1.228760e+07</td>\n",
       "      <td>7.651933e+04</td>\n",
       "      <td>2.436182</td>\n",
       "      <td>0.069333</td>\n",
       "    </tr>\n",
       "    <tr>\n",
       "      <th>std</th>\n",
       "      <td>4326.959832</td>\n",
       "      <td>1.047995e+02</td>\n",
       "      <td>1.088401e+02</td>\n",
       "      <td>40.921347</td>\n",
       "      <td>124187.745686</td>\n",
       "      <td>361.236161</td>\n",
       "      <td>9.914309e+05</td>\n",
       "      <td>142.504458</td>\n",
       "      <td>3.891783</td>\n",
       "      <td>2.838050e+06</td>\n",
       "      <td>3.566912</td>\n",
       "      <td>0.417351</td>\n",
       "      <td>70.112724</td>\n",
       "      <td>2405.917886</td>\n",
       "      <td>466.132889</td>\n",
       "      <td>47872.569599</td>\n",
       "      <td>0.825276</td>\n",
       "      <td>0.251297</td>\n",
       "      <td>1.013583</td>\n",
       "      <td>1.721997</td>\n",
       "      <td>0.0</td>\n",
       "      <td>0.0</td>\n",
       "      <td>1.448583e+06</td>\n",
       "      <td>1.645905e+07</td>\n",
       "      <td>6.765391e+05</td>\n",
       "      <td>1.389367</td>\n",
       "      <td>0.254030</td>\n",
       "    </tr>\n",
       "    <tr>\n",
       "      <th>min</th>\n",
       "      <td>1.000000</td>\n",
       "      <td>2.457297e+06</td>\n",
       "      <td>2.457303e+06</td>\n",
       "      <td>0.000000</td>\n",
       "      <td>-2.000000</td>\n",
       "      <td>2.000000</td>\n",
       "      <td>-4.000000e+00</td>\n",
       "      <td>26.000000</td>\n",
       "      <td>1.000000</td>\n",
       "      <td>1.000000e+00</td>\n",
       "      <td>-2.000000</td>\n",
       "      <td>1.000000</td>\n",
       "      <td>1.000000</td>\n",
       "      <td>2.000000</td>\n",
       "      <td>1.000000</td>\n",
       "      <td>47.000000</td>\n",
       "      <td>1.000000</td>\n",
       "      <td>1.000000</td>\n",
       "      <td>1.000000</td>\n",
       "      <td>3.000000</td>\n",
       "      <td>3.0</td>\n",
       "      <td>999.0</td>\n",
       "      <td>5.000000e+04</td>\n",
       "      <td>3.800000e+04</td>\n",
       "      <td>1.000000e+00</td>\n",
       "      <td>1.000000</td>\n",
       "      <td>0.000000</td>\n",
       "    </tr>\n",
       "    <tr>\n",
       "      <th>25%</th>\n",
       "      <td>3784.000000</td>\n",
       "      <td>2.457404e+06</td>\n",
       "      <td>2.457451e+06</td>\n",
       "      <td>93.000000</td>\n",
       "      <td>-2.000000</td>\n",
       "      <td>1798.000000</td>\n",
       "      <td>1.130699e+06</td>\n",
       "      <td>26.000000</td>\n",
       "      <td>9.000000</td>\n",
       "      <td>2.000000e+05</td>\n",
       "      <td>96.000000</td>\n",
       "      <td>5.000000</td>\n",
       "      <td>102.000000</td>\n",
       "      <td>1914.000000</td>\n",
       "      <td>613.000000</td>\n",
       "      <td>102622.000000</td>\n",
       "      <td>2.000000</td>\n",
       "      <td>2.000000</td>\n",
       "      <td>1.000000</td>\n",
       "      <td>9.000000</td>\n",
       "      <td>3.0</td>\n",
       "      <td>999.0</td>\n",
       "      <td>5.685634e+05</td>\n",
       "      <td>2.500000e+06</td>\n",
       "      <td>2.500000e+04</td>\n",
       "      <td>1.680000</td>\n",
       "      <td>0.000000</td>\n",
       "    </tr>\n",
       "    <tr>\n",
       "      <th>50%</th>\n",
       "      <td>7475.000000</td>\n",
       "      <td>2.457500e+06</td>\n",
       "      <td>2.457543e+06</td>\n",
       "      <td>103.000000</td>\n",
       "      <td>-2.000000</td>\n",
       "      <td>1798.000000</td>\n",
       "      <td>1.836319e+06</td>\n",
       "      <td>156.000000</td>\n",
       "      <td>10.000000</td>\n",
       "      <td>5.700000e+05</td>\n",
       "      <td>96.000000</td>\n",
       "      <td>5.000000</td>\n",
       "      <td>128.000000</td>\n",
       "      <td>3720.000000</td>\n",
       "      <td>613.000000</td>\n",
       "      <td>140707.000000</td>\n",
       "      <td>3.000000</td>\n",
       "      <td>2.000000</td>\n",
       "      <td>1.000000</td>\n",
       "      <td>9.000000</td>\n",
       "      <td>3.0</td>\n",
       "      <td>999.0</td>\n",
       "      <td>1.024239e+06</td>\n",
       "      <td>6.000000e+06</td>\n",
       "      <td>3.696400e+04</td>\n",
       "      <td>2.100000</td>\n",
       "      <td>0.000000</td>\n",
       "    </tr>\n",
       "    <tr>\n",
       "      <th>75%</th>\n",
       "      <td>11265.000000</td>\n",
       "      <td>2.457581e+06</td>\n",
       "      <td>2.457632e+06</td>\n",
       "      <td>111.000000</td>\n",
       "      <td>-2.000000</td>\n",
       "      <td>1798.000000</td>\n",
       "      <td>2.419350e+06</td>\n",
       "      <td>301.000000</td>\n",
       "      <td>11.000000</td>\n",
       "      <td>1.250000e+06</td>\n",
       "      <td>96.000000</td>\n",
       "      <td>5.000000</td>\n",
       "      <td>203.000000</td>\n",
       "      <td>5637.000000</td>\n",
       "      <td>613.000000</td>\n",
       "      <td>175420.000000</td>\n",
       "      <td>3.000000</td>\n",
       "      <td>2.000000</td>\n",
       "      <td>1.000000</td>\n",
       "      <td>9.000000</td>\n",
       "      <td>3.0</td>\n",
       "      <td>999.0</td>\n",
       "      <td>1.679778e+06</td>\n",
       "      <td>1.500000e+07</td>\n",
       "      <td>6.320000e+04</td>\n",
       "      <td>2.790000</td>\n",
       "      <td>0.000000</td>\n",
       "    </tr>\n",
       "    <tr>\n",
       "      <th>max</th>\n",
       "      <td>15000.000000</td>\n",
       "      <td>2.457662e+06</td>\n",
       "      <td>2.457754e+06</td>\n",
       "      <td>138.000000</td>\n",
       "      <td>720990.000000</td>\n",
       "      <td>1859.000000</td>\n",
       "      <td>6.928943e+06</td>\n",
       "      <td>640.000000</td>\n",
       "      <td>20.000000</td>\n",
       "      <td>7.500000e+07</td>\n",
       "      <td>216.000000</td>\n",
       "      <td>16.000000</td>\n",
       "      <td>293.000000</td>\n",
       "      <td>8697.000000</td>\n",
       "      <td>2688.000000</td>\n",
       "      <td>235914.000000</td>\n",
       "      <td>4.000000</td>\n",
       "      <td>2.000000</td>\n",
       "      <td>5.000000</td>\n",
       "      <td>9.000000</td>\n",
       "      <td>3.0</td>\n",
       "      <td>999.0</td>\n",
       "      <td>2.466667e+07</td>\n",
       "      <td>1.000000e+08</td>\n",
       "      <td>7.500000e+07</td>\n",
       "      <td>19.780000</td>\n",
       "      <td>1.000000</td>\n",
       "    </tr>\n",
       "  </tbody>\n",
       "</table>\n",
       "</div>"
      ],
      "text/plain": [
       "                  X  id_tanggal_transaksi_awal  tanggal_transaksi_awal  \\\n",
       "count  13125.000000               1.312500e+04            1.312500e+04   \n",
       "mean    7507.821943               2.457490e+06            2.457541e+06   \n",
       "std     4326.959832               1.047995e+02            1.088401e+02   \n",
       "min        1.000000               2.457297e+06            2.457303e+06   \n",
       "25%     3784.000000               2.457404e+06            2.457451e+06   \n",
       "50%     7475.000000               2.457500e+06            2.457543e+06   \n",
       "75%    11265.000000               2.457581e+06            2.457632e+06   \n",
       "max    15000.000000               2.457662e+06            2.457754e+06   \n",
       "\n",
       "         tipe_kartu    id_merchant  nama_merchant    tipe_mesin  \\\n",
       "count  13125.000000   13125.000000   13125.000000  1.312500e+04   \n",
       "mean      85.340114   39300.900876    1678.483886  1.649037e+06   \n",
       "std       40.921347  124187.745686     361.236161  9.914309e+05   \n",
       "min        0.000000      -2.000000       2.000000 -4.000000e+00   \n",
       "25%       93.000000      -2.000000    1798.000000  1.130699e+06   \n",
       "50%      103.000000      -2.000000    1798.000000  1.836319e+06   \n",
       "75%      111.000000      -2.000000    1798.000000  2.419350e+06   \n",
       "max      138.000000  720990.000000    1859.000000  6.928943e+06   \n",
       "\n",
       "       tipe_transaksi  nama_transaksi  nilai_transaksi     id_negara  \\\n",
       "count    13125.000000    13125.000000     1.312500e+04  13125.000000   \n",
       "mean       178.778362       10.729524     1.315219e+06     96.057981   \n",
       "std        142.504458        3.891783     2.838050e+06      3.566912   \n",
       "min         26.000000        1.000000     1.000000e+00     -2.000000   \n",
       "25%         26.000000        9.000000     2.000000e+05     96.000000   \n",
       "50%        156.000000       10.000000     5.700000e+05     96.000000   \n",
       "75%        301.000000       11.000000     1.250000e+06     96.000000   \n",
       "max        640.000000       20.000000     7.500000e+07    216.000000   \n",
       "\n",
       "        nama_negara     nama_kota  lokasi_mesin  pemilik_mesin  \\\n",
       "count  13125.000000  13125.000000  13125.000000   13125.000000   \n",
       "mean       5.019581    148.295543   3947.520457     766.033448   \n",
       "std        0.417351     70.112724   2405.917886     466.132889   \n",
       "min        1.000000      1.000000      2.000000       1.000000   \n",
       "25%        5.000000    102.000000   1914.000000     613.000000   \n",
       "50%        5.000000    128.000000   3720.000000     613.000000   \n",
       "75%        5.000000    203.000000   5637.000000     613.000000   \n",
       "max       16.000000    293.000000   8697.000000    2688.000000   \n",
       "\n",
       "       waktu_transaksi  kuartal_transaksi  kepemilikan_kartu  nama_channel  \\\n",
       "count     13125.000000       13125.000000       13125.000000  13125.000000   \n",
       "mean     138895.669638           2.854857           1.932267      1.404267   \n",
       "std       47872.569599           0.825276           0.251297      1.013583   \n",
       "min          47.000000           1.000000           1.000000      1.000000   \n",
       "25%      102622.000000           2.000000           2.000000      1.000000   \n",
       "50%      140707.000000           3.000000           2.000000      1.000000   \n",
       "75%      175420.000000           3.000000           2.000000      1.000000   \n",
       "max      235914.000000           4.000000           2.000000      5.000000   \n",
       "\n",
       "         id_channel  status_transaksi  bank_pemilik_kartu  \\\n",
       "count  13125.000000           13125.0             13125.0   \n",
       "mean       8.237410               3.0               999.0   \n",
       "std        1.721997               0.0                 0.0   \n",
       "min        3.000000               3.0               999.0   \n",
       "25%        9.000000               3.0               999.0   \n",
       "50%        9.000000               3.0               999.0   \n",
       "75%        9.000000               3.0               999.0   \n",
       "max        9.000000               3.0               999.0   \n",
       "\n",
       "       rata_rata_nilai_transaksi  maksimum_nilai_transaksi  \\\n",
       "count               1.310400e+04              1.310400e+04   \n",
       "mean                1.364132e+06              1.228760e+07   \n",
       "std                 1.448583e+06              1.645905e+07   \n",
       "min                 5.000000e+04              3.800000e+04   \n",
       "25%                 5.685634e+05              2.500000e+06   \n",
       "50%                 1.024239e+06              6.000000e+06   \n",
       "75%                 1.679778e+06              1.500000e+07   \n",
       "max                 2.466667e+07              1.000000e+08   \n",
       "\n",
       "       minimum_nilai_transaksi  rata_rata_jumlah_transaksi  \\\n",
       "count             1.310400e+04                13104.000000   \n",
       "mean              7.651933e+04                    2.436182   \n",
       "std               6.765391e+05                    1.389367   \n",
       "min               1.000000e+00                    1.000000   \n",
       "25%               2.500000e+04                    1.680000   \n",
       "50%               3.696400e+04                    2.100000   \n",
       "75%               6.320000e+04                    2.790000   \n",
       "max               7.500000e+07                   19.780000   \n",
       "\n",
       "       flag_transaksi_fraud  \n",
       "count          13125.000000  \n",
       "mean               0.069333  \n",
       "std                0.254030  \n",
       "min                0.000000  \n",
       "25%                0.000000  \n",
       "50%                0.000000  \n",
       "75%                0.000000  \n",
       "max                1.000000  "
      ]
     },
     "execution_count": 102,
     "metadata": {},
     "output_type": "execute_result"
    }
   ],
   "source": [
    "train.describe()"
   ]
  },
  {
   "cell_type": "markdown",
   "metadata": {},
   "source": [
    "## 2. Data Preparation\n",
    "\n",
    "- Menghapus kolom yang tidak relevan\n",
    "- Memeriksa data duplikat\n",
    "- Nilai hilang/rusak\n",
    "- Tipe data\n",
    "- Outlier\n",
    "- Feature Engineering"
   ]
  },
  {
   "cell_type": "markdown",
   "metadata": {},
   "source": [
    "### **Menghapus kolom yang tidak relevan**"
   ]
  },
  {
   "cell_type": "code",
   "execution_count": 103,
   "metadata": {},
   "outputs": [
    {
     "data": {
      "text/html": [
       "<div>\n",
       "<style scoped>\n",
       "    .dataframe tbody tr th:only-of-type {\n",
       "        vertical-align: middle;\n",
       "    }\n",
       "\n",
       "    .dataframe tbody tr th {\n",
       "        vertical-align: top;\n",
       "    }\n",
       "\n",
       "    .dataframe thead th {\n",
       "        text-align: right;\n",
       "    }\n",
       "</style>\n",
       "<table border=\"1\" class=\"dataframe\">\n",
       "  <thead>\n",
       "    <tr style=\"text-align: right;\">\n",
       "      <th></th>\n",
       "      <th>X</th>\n",
       "      <th>id_tanggal_transaksi_awal</th>\n",
       "      <th>tanggal_transaksi_awal</th>\n",
       "      <th>tipe_kartu</th>\n",
       "      <th>id_merchant</th>\n",
       "      <th>nama_merchant</th>\n",
       "      <th>tipe_mesin</th>\n",
       "      <th>tipe_transaksi</th>\n",
       "      <th>nama_transaksi</th>\n",
       "      <th>nilai_transaksi</th>\n",
       "      <th>id_negara</th>\n",
       "      <th>nama_negara</th>\n",
       "      <th>nama_kota</th>\n",
       "      <th>lokasi_mesin</th>\n",
       "      <th>pemilik_mesin</th>\n",
       "      <th>waktu_transaksi</th>\n",
       "      <th>kuartal_transaksi</th>\n",
       "      <th>kepemilikan_kartu</th>\n",
       "      <th>nama_channel</th>\n",
       "      <th>id_channel</th>\n",
       "      <th>flag_transaksi_finansial</th>\n",
       "      <th>status_transaksi</th>\n",
       "      <th>bank_pemilik_kartu</th>\n",
       "      <th>rata_rata_nilai_transaksi</th>\n",
       "      <th>maksimum_nilai_transaksi</th>\n",
       "      <th>minimum_nilai_transaksi</th>\n",
       "      <th>rata_rata_jumlah_transaksi</th>\n",
       "      <th>flag_transaksi_fraud</th>\n",
       "    </tr>\n",
       "  </thead>\n",
       "  <tbody>\n",
       "    <tr>\n",
       "      <th>0</th>\n",
       "      <td>4676</td>\n",
       "      <td>2457646</td>\n",
       "      <td>2457726</td>\n",
       "      <td>111</td>\n",
       "      <td>-2</td>\n",
       "      <td>1798</td>\n",
       "      <td>2605127</td>\n",
       "      <td>26</td>\n",
       "      <td>10</td>\n",
       "      <td>2200000.0</td>\n",
       "      <td>96</td>\n",
       "      <td>5</td>\n",
       "      <td>265</td>\n",
       "      <td>4137</td>\n",
       "      <td>613</td>\n",
       "      <td>193955</td>\n",
       "      <td>4</td>\n",
       "      <td>2</td>\n",
       "      <td>1</td>\n",
       "      <td>9</td>\n",
       "      <td>False</td>\n",
       "      <td>3</td>\n",
       "      <td>999</td>\n",
       "      <td>1.332293e+06</td>\n",
       "      <td>9750000.0</td>\n",
       "      <td>10000.0</td>\n",
       "      <td>2.73</td>\n",
       "      <td>0</td>\n",
       "    </tr>\n",
       "    <tr>\n",
       "      <th>1</th>\n",
       "      <td>788</td>\n",
       "      <td>2457419</td>\n",
       "      <td>2457507</td>\n",
       "      <td>111</td>\n",
       "      <td>-2</td>\n",
       "      <td>1798</td>\n",
       "      <td>-3</td>\n",
       "      <td>156</td>\n",
       "      <td>12</td>\n",
       "      <td>2500000.0</td>\n",
       "      <td>96</td>\n",
       "      <td>5</td>\n",
       "      <td>121</td>\n",
       "      <td>1264</td>\n",
       "      <td>2196</td>\n",
       "      <td>73140</td>\n",
       "      <td>2</td>\n",
       "      <td>1</td>\n",
       "      <td>5</td>\n",
       "      <td>8</td>\n",
       "      <td>False</td>\n",
       "      <td>3</td>\n",
       "      <td>999</td>\n",
       "      <td>1.369048e+06</td>\n",
       "      <td>10000000.0</td>\n",
       "      <td>30000.0</td>\n",
       "      <td>2.33</td>\n",
       "      <td>1</td>\n",
       "    </tr>\n",
       "    <tr>\n",
       "      <th>2</th>\n",
       "      <td>1520</td>\n",
       "      <td>2457521</td>\n",
       "      <td>2457612</td>\n",
       "      <td>2</td>\n",
       "      <td>-2</td>\n",
       "      <td>1798</td>\n",
       "      <td>-3</td>\n",
       "      <td>156</td>\n",
       "      <td>12</td>\n",
       "      <td>1200000.0</td>\n",
       "      <td>96</td>\n",
       "      <td>5</td>\n",
       "      <td>101</td>\n",
       "      <td>1283</td>\n",
       "      <td>2049</td>\n",
       "      <td>140216</td>\n",
       "      <td>3</td>\n",
       "      <td>1</td>\n",
       "      <td>5</td>\n",
       "      <td>8</td>\n",
       "      <td>False</td>\n",
       "      <td>3</td>\n",
       "      <td>999</td>\n",
       "      <td>1.552346e+07</td>\n",
       "      <td>100000000.0</td>\n",
       "      <td>41804.0</td>\n",
       "      <td>2.40</td>\n",
       "      <td>0</td>\n",
       "    </tr>\n",
       "    <tr>\n",
       "      <th>3</th>\n",
       "      <td>9346</td>\n",
       "      <td>2457659</td>\n",
       "      <td>2457746</td>\n",
       "      <td>103</td>\n",
       "      <td>75336</td>\n",
       "      <td>249</td>\n",
       "      <td>2806174</td>\n",
       "      <td>58</td>\n",
       "      <td>6</td>\n",
       "      <td>320000.0</td>\n",
       "      <td>96</td>\n",
       "      <td>5</td>\n",
       "      <td>239</td>\n",
       "      <td>7049</td>\n",
       "      <td>588</td>\n",
       "      <td>155117</td>\n",
       "      <td>3</td>\n",
       "      <td>2</td>\n",
       "      <td>2</td>\n",
       "      <td>4</td>\n",
       "      <td>False</td>\n",
       "      <td>3</td>\n",
       "      <td>999</td>\n",
       "      <td>7.117647e+05</td>\n",
       "      <td>6884408.0</td>\n",
       "      <td>10000.0</td>\n",
       "      <td>1.98</td>\n",
       "      <td>0</td>\n",
       "    </tr>\n",
       "    <tr>\n",
       "      <th>4</th>\n",
       "      <td>2914</td>\n",
       "      <td>2457311</td>\n",
       "      <td>2457385</td>\n",
       "      <td>0</td>\n",
       "      <td>-2</td>\n",
       "      <td>1798</td>\n",
       "      <td>2334932</td>\n",
       "      <td>26</td>\n",
       "      <td>10</td>\n",
       "      <td>150000.0</td>\n",
       "      <td>96</td>\n",
       "      <td>5</td>\n",
       "      <td>69</td>\n",
       "      <td>3425</td>\n",
       "      <td>613</td>\n",
       "      <td>143339</td>\n",
       "      <td>3</td>\n",
       "      <td>2</td>\n",
       "      <td>1</td>\n",
       "      <td>9</td>\n",
       "      <td>False</td>\n",
       "      <td>3</td>\n",
       "      <td>999</td>\n",
       "      <td>6.179683e+05</td>\n",
       "      <td>2500000.0</td>\n",
       "      <td>100000.0</td>\n",
       "      <td>1.46</td>\n",
       "      <td>0</td>\n",
       "    </tr>\n",
       "  </tbody>\n",
       "</table>\n",
       "</div>"
      ],
      "text/plain": [
       "      X  id_tanggal_transaksi_awal  tanggal_transaksi_awal  tipe_kartu  \\\n",
       "0  4676                    2457646                 2457726         111   \n",
       "1   788                    2457419                 2457507         111   \n",
       "2  1520                    2457521                 2457612           2   \n",
       "3  9346                    2457659                 2457746         103   \n",
       "4  2914                    2457311                 2457385           0   \n",
       "\n",
       "   id_merchant  nama_merchant  tipe_mesin  tipe_transaksi  nama_transaksi  \\\n",
       "0           -2           1798     2605127              26              10   \n",
       "1           -2           1798          -3             156              12   \n",
       "2           -2           1798          -3             156              12   \n",
       "3        75336            249     2806174              58               6   \n",
       "4           -2           1798     2334932              26              10   \n",
       "\n",
       "   nilai_transaksi  id_negara  nama_negara  nama_kota  lokasi_mesin  \\\n",
       "0        2200000.0         96            5        265          4137   \n",
       "1        2500000.0         96            5        121          1264   \n",
       "2        1200000.0         96            5        101          1283   \n",
       "3         320000.0         96            5        239          7049   \n",
       "4         150000.0         96            5         69          3425   \n",
       "\n",
       "   pemilik_mesin  waktu_transaksi  kuartal_transaksi  kepemilikan_kartu  \\\n",
       "0            613           193955                  4                  2   \n",
       "1           2196            73140                  2                  1   \n",
       "2           2049           140216                  3                  1   \n",
       "3            588           155117                  3                  2   \n",
       "4            613           143339                  3                  2   \n",
       "\n",
       "   nama_channel  id_channel  flag_transaksi_finansial  status_transaksi  \\\n",
       "0             1           9                     False                 3   \n",
       "1             5           8                     False                 3   \n",
       "2             5           8                     False                 3   \n",
       "3             2           4                     False                 3   \n",
       "4             1           9                     False                 3   \n",
       "\n",
       "   bank_pemilik_kartu  rata_rata_nilai_transaksi  maksimum_nilai_transaksi  \\\n",
       "0                 999               1.332293e+06                 9750000.0   \n",
       "1                 999               1.369048e+06                10000000.0   \n",
       "2                 999               1.552346e+07               100000000.0   \n",
       "3                 999               7.117647e+05                 6884408.0   \n",
       "4                 999               6.179683e+05                 2500000.0   \n",
       "\n",
       "   minimum_nilai_transaksi  rata_rata_jumlah_transaksi  flag_transaksi_fraud  \n",
       "0                  10000.0                        2.73                     0  \n",
       "1                  30000.0                        2.33                     1  \n",
       "2                  41804.0                        2.40                     0  \n",
       "3                  10000.0                        1.98                     0  \n",
       "4                 100000.0                        1.46                     0  "
      ]
     },
     "execution_count": 103,
     "metadata": {},
     "output_type": "execute_result"
    }
   ],
   "source": [
    "train.head()"
   ]
  },
  {
   "cell_type": "markdown",
   "metadata": {},
   "source": [
    "#### Menghapus Kolom yang memiliki nilai yang sama.\n",
    "Kolom yang memiliki nilai yang sama untuk setiap baris tidak memberikan informasi yang bermanfaat dalam analisis"
   ]
  },
  {
   "cell_type": "code",
   "execution_count": 104,
   "metadata": {},
   "outputs": [
    {
     "name": "stdout",
     "output_type": "stream",
     "text": [
      "Kolom dengan semua nilai sama: ['flag_transaksi_finansial', 'status_transaksi', 'bank_pemilik_kartu']\n"
     ]
    }
   ],
   "source": [
    "# Fungsi untuk mengecek kolom mana saja yang memiliki semua nilai sama\n",
    "def kolom_semua_nilai_sama(train):\n",
    "    kolom_sama = []\n",
    "    for kolom in train.columns:\n",
    "        if train[kolom].nunique() == 1:\n",
    "            kolom_sama.append(kolom)\n",
    "    return kolom_sama\n",
    "\n",
    "\n",
    "kolom_semua_sama = kolom_semua_nilai_sama(train)\n",
    "print(f\"Kolom dengan semua nilai sama: {kolom_semua_sama}\")"
   ]
  },
  {
   "cell_type": "code",
   "execution_count": 105,
   "metadata": {},
   "outputs": [],
   "source": [
    "train.drop(columns=kolom_semua_sama, inplace=True)"
   ]
  },
  {
   "cell_type": "markdown",
   "metadata": {},
   "source": [
    "#### Menghapus Kolom yang Mungkin Berlebihan\n",
    "Kolom-kolom ini memiliki banyak nilai unik dan mungkin tidak memberikan informasi yang signifikan"
   ]
  },
  {
   "cell_type": "code",
   "execution_count": 106,
   "metadata": {},
   "outputs": [],
   "source": [
    "train.drop(columns=['X', 'id_tanggal_transaksi_awal', 'tipe_mesin', 'lokasi_mesin', 'pemilik_mesin'], inplace=True)"
   ]
  },
  {
   "cell_type": "markdown",
   "metadata": {},
   "source": [
    "#### Menghapus Kolom yang Redundan\n",
    "Kolom-kolom ini memberikan informasi yang sama atau sangat mirip dengan kolom lain dalam dataset."
   ]
  },
  {
   "cell_type": "code",
   "execution_count": 107,
   "metadata": {},
   "outputs": [],
   "source": [
    "train.drop(columns=['id_merchant', 'nama_merchant', 'nama_negara', 'nama_transaksi', 'nama_channel'], inplace=True)"
   ]
  },
  {
   "cell_type": "markdown",
   "metadata": {},
   "source": [
    "### **Memeriksa Data Duplikat**"
   ]
  },
  {
   "cell_type": "code",
   "execution_count": 108,
   "metadata": {},
   "outputs": [
    {
     "data": {
      "text/html": [
       "<div>\n",
       "<style scoped>\n",
       "    .dataframe tbody tr th:only-of-type {\n",
       "        vertical-align: middle;\n",
       "    }\n",
       "\n",
       "    .dataframe tbody tr th {\n",
       "        vertical-align: top;\n",
       "    }\n",
       "\n",
       "    .dataframe thead th {\n",
       "        text-align: right;\n",
       "    }\n",
       "</style>\n",
       "<table border=\"1\" class=\"dataframe\">\n",
       "  <thead>\n",
       "    <tr style=\"text-align: right;\">\n",
       "      <th></th>\n",
       "      <th>tanggal_transaksi_awal</th>\n",
       "      <th>tipe_kartu</th>\n",
       "      <th>tipe_transaksi</th>\n",
       "      <th>nilai_transaksi</th>\n",
       "      <th>id_negara</th>\n",
       "      <th>nama_kota</th>\n",
       "      <th>waktu_transaksi</th>\n",
       "      <th>kuartal_transaksi</th>\n",
       "      <th>kepemilikan_kartu</th>\n",
       "      <th>id_channel</th>\n",
       "      <th>rata_rata_nilai_transaksi</th>\n",
       "      <th>maksimum_nilai_transaksi</th>\n",
       "      <th>minimum_nilai_transaksi</th>\n",
       "      <th>rata_rata_jumlah_transaksi</th>\n",
       "      <th>flag_transaksi_fraud</th>\n",
       "    </tr>\n",
       "  </thead>\n",
       "  <tbody>\n",
       "  </tbody>\n",
       "</table>\n",
       "</div>"
      ],
      "text/plain": [
       "Empty DataFrame\n",
       "Columns: [tanggal_transaksi_awal, tipe_kartu, tipe_transaksi, nilai_transaksi, id_negara, nama_kota, waktu_transaksi, kuartal_transaksi, kepemilikan_kartu, id_channel, rata_rata_nilai_transaksi, maksimum_nilai_transaksi, minimum_nilai_transaksi, rata_rata_jumlah_transaksi, flag_transaksi_fraud]\n",
       "Index: []"
      ]
     },
     "execution_count": 108,
     "metadata": {},
     "output_type": "execute_result"
    }
   ],
   "source": [
    "train[train.duplicated()]"
   ]
  },
  {
   "cell_type": "markdown",
   "metadata": {},
   "source": [
    "Tidak ada data yang duplikat"
   ]
  },
  {
   "cell_type": "markdown",
   "metadata": {},
   "source": [
    "### **Memeriksa data yang hilang atau null**"
   ]
  },
  {
   "cell_type": "markdown",
   "metadata": {},
   "source": [
    "Melihat jumlah data yang null"
   ]
  },
  {
   "cell_type": "code",
   "execution_count": 109,
   "metadata": {},
   "outputs": [
    {
     "data": {
      "text/plain": [
       "tanggal_transaksi_awal         0\n",
       "tipe_kartu                     0\n",
       "tipe_transaksi                 0\n",
       "nilai_transaksi                0\n",
       "id_negara                      0\n",
       "nama_kota                      0\n",
       "waktu_transaksi                0\n",
       "kuartal_transaksi              0\n",
       "kepemilikan_kartu              0\n",
       "id_channel                     0\n",
       "rata_rata_nilai_transaksi     21\n",
       "maksimum_nilai_transaksi      21\n",
       "minimum_nilai_transaksi       21\n",
       "rata_rata_jumlah_transaksi    21\n",
       "flag_transaksi_fraud           0\n",
       "dtype: int64"
      ]
     },
     "execution_count": 109,
     "metadata": {},
     "output_type": "execute_result"
    }
   ],
   "source": [
    "train.isna().sum()"
   ]
  },
  {
   "cell_type": "markdown",
   "metadata": {},
   "source": [
    "Terdapat 21 baris data yang memiliki nilai null pada kolom-kolom tersebut, yang dimana kolom-kolom tersebut adalah kolom yang sangat membantu kemampuan klasifikasi sebuah model. Hal yang bisa dilakukan adalah menghapusnya atau imputasi nilai. Pertimbangannya adalah jika dilakukan imputasi nilai pada kolom-kolom tersebut, dikhawatirkan akan menyebabkan berkurangnya akurasi pada model. Sehingga diputuskan untuk menghapusnya saja, selain itu karena baris data yang akan terhapus pun cukup sedikit sehingga tidak terlalu mempengaruhi hasil."
   ]
  },
  {
   "cell_type": "code",
   "execution_count": 110,
   "metadata": {},
   "outputs": [],
   "source": [
    "train.dropna(inplace=True)"
   ]
  },
  {
   "cell_type": "markdown",
   "metadata": {},
   "source": [
    "### **Tipe Data**"
   ]
  },
  {
   "cell_type": "markdown",
   "metadata": {},
   "source": [
    "#### Melakukan konversi tipe data"
   ]
  },
  {
   "cell_type": "code",
   "execution_count": 111,
   "metadata": {},
   "outputs": [
    {
     "name": "stdout",
     "output_type": "stream",
     "text": [
      "<class 'pandas.core.frame.DataFrame'>\n",
      "Int64Index: 13104 entries, 0 to 13124\n",
      "Data columns (total 15 columns):\n",
      " #   Column                      Non-Null Count  Dtype  \n",
      "---  ------                      --------------  -----  \n",
      " 0   tanggal_transaksi_awal      13104 non-null  int64  \n",
      " 1   tipe_kartu                  13104 non-null  int64  \n",
      " 2   tipe_transaksi              13104 non-null  int64  \n",
      " 3   nilai_transaksi             13104 non-null  float64\n",
      " 4   id_negara                   13104 non-null  int64  \n",
      " 5   nama_kota                   13104 non-null  int64  \n",
      " 6   waktu_transaksi             13104 non-null  int64  \n",
      " 7   kuartal_transaksi           13104 non-null  int64  \n",
      " 8   kepemilikan_kartu           13104 non-null  int64  \n",
      " 9   id_channel                  13104 non-null  int64  \n",
      " 10  rata_rata_nilai_transaksi   13104 non-null  float64\n",
      " 11  maksimum_nilai_transaksi    13104 non-null  float64\n",
      " 12  minimum_nilai_transaksi     13104 non-null  float64\n",
      " 13  rata_rata_jumlah_transaksi  13104 non-null  float64\n",
      " 14  flag_transaksi_fraud        13104 non-null  int64  \n",
      "dtypes: float64(5), int64(10)\n",
      "memory usage: 1.6 MB\n"
     ]
    }
   ],
   "source": [
    "train.info()"
   ]
  },
  {
   "cell_type": "markdown",
   "metadata": {},
   "source": [
    "Mengubah kolom-kolom yang seharusnya memiliki tipe data kategori"
   ]
  },
  {
   "cell_type": "code",
   "execution_count": 112,
   "metadata": {},
   "outputs": [],
   "source": [
    "kolom_kategori = [\n",
    "    \"tipe_kartu\",\n",
    "    \"tipe_transaksi\",\n",
    "    \"id_negara\",\n",
    "    \"nama_kota\",\n",
    "    \"kuartal_transaksi\",\n",
    "    \"kepemilikan_kartu\",\n",
    "    \"id_channel\",\n",
    "    \"flag_transaksi_fraud\",\n",
    "]\n",
    "\n",
    "train[kolom_kategori] = train[kolom_kategori].astype(\"category\")\n"
   ]
  },
  {
   "cell_type": "code",
   "execution_count": 113,
   "metadata": {},
   "outputs": [
    {
     "name": "stdout",
     "output_type": "stream",
     "text": [
      "<class 'pandas.core.frame.DataFrame'>\n",
      "Int64Index: 13104 entries, 0 to 13124\n",
      "Data columns (total 15 columns):\n",
      " #   Column                      Non-Null Count  Dtype   \n",
      "---  ------                      --------------  -----   \n",
      " 0   tanggal_transaksi_awal      13104 non-null  int64   \n",
      " 1   tipe_kartu                  13104 non-null  category\n",
      " 2   tipe_transaksi              13104 non-null  category\n",
      " 3   nilai_transaksi             13104 non-null  float64 \n",
      " 4   id_negara                   13104 non-null  category\n",
      " 5   nama_kota                   13104 non-null  category\n",
      " 6   waktu_transaksi             13104 non-null  int64   \n",
      " 7   kuartal_transaksi           13104 non-null  category\n",
      " 8   kepemilikan_kartu           13104 non-null  category\n",
      " 9   id_channel                  13104 non-null  category\n",
      " 10  rata_rata_nilai_transaksi   13104 non-null  float64 \n",
      " 11  maksimum_nilai_transaksi    13104 non-null  float64 \n",
      " 12  minimum_nilai_transaksi     13104 non-null  float64 \n",
      " 13  rata_rata_jumlah_transaksi  13104 non-null  float64 \n",
      " 14  flag_transaksi_fraud        13104 non-null  category\n",
      "dtypes: category(8), float64(5), int64(2)\n",
      "memory usage: 946.7 KB\n"
     ]
    }
   ],
   "source": [
    "train.info()"
   ]
  },
  {
   "cell_type": "markdown",
   "metadata": {},
   "source": [
    "#### Format tanggal dan waktu"
   ]
  },
  {
   "cell_type": "code",
   "execution_count": 114,
   "metadata": {},
   "outputs": [
    {
     "data": {
      "text/html": [
       "<div>\n",
       "<style scoped>\n",
       "    .dataframe tbody tr th:only-of-type {\n",
       "        vertical-align: middle;\n",
       "    }\n",
       "\n",
       "    .dataframe tbody tr th {\n",
       "        vertical-align: top;\n",
       "    }\n",
       "\n",
       "    .dataframe thead th {\n",
       "        text-align: right;\n",
       "    }\n",
       "</style>\n",
       "<table border=\"1\" class=\"dataframe\">\n",
       "  <thead>\n",
       "    <tr style=\"text-align: right;\">\n",
       "      <th></th>\n",
       "      <th>tanggal_transaksi_awal</th>\n",
       "      <th>waktu_transaksi</th>\n",
       "    </tr>\n",
       "  </thead>\n",
       "  <tbody>\n",
       "    <tr>\n",
       "      <th>0</th>\n",
       "      <td>2457726</td>\n",
       "      <td>193955</td>\n",
       "    </tr>\n",
       "    <tr>\n",
       "      <th>1</th>\n",
       "      <td>2457507</td>\n",
       "      <td>73140</td>\n",
       "    </tr>\n",
       "    <tr>\n",
       "      <th>2</th>\n",
       "      <td>2457612</td>\n",
       "      <td>140216</td>\n",
       "    </tr>\n",
       "    <tr>\n",
       "      <th>3</th>\n",
       "      <td>2457746</td>\n",
       "      <td>155117</td>\n",
       "    </tr>\n",
       "    <tr>\n",
       "      <th>4</th>\n",
       "      <td>2457385</td>\n",
       "      <td>143339</td>\n",
       "    </tr>\n",
       "    <tr>\n",
       "      <th>...</th>\n",
       "      <td>...</td>\n",
       "      <td>...</td>\n",
       "    </tr>\n",
       "    <tr>\n",
       "      <th>13120</th>\n",
       "      <td>2457583</td>\n",
       "      <td>140547</td>\n",
       "    </tr>\n",
       "    <tr>\n",
       "      <th>13121</th>\n",
       "      <td>2457517</td>\n",
       "      <td>172446</td>\n",
       "    </tr>\n",
       "    <tr>\n",
       "      <th>13122</th>\n",
       "      <td>2457712</td>\n",
       "      <td>141836</td>\n",
       "    </tr>\n",
       "    <tr>\n",
       "      <th>13123</th>\n",
       "      <td>2457526</td>\n",
       "      <td>71451</td>\n",
       "    </tr>\n",
       "    <tr>\n",
       "      <th>13124</th>\n",
       "      <td>2457522</td>\n",
       "      <td>175350</td>\n",
       "    </tr>\n",
       "  </tbody>\n",
       "</table>\n",
       "<p>13104 rows × 2 columns</p>\n",
       "</div>"
      ],
      "text/plain": [
       "       tanggal_transaksi_awal  waktu_transaksi\n",
       "0                     2457726           193955\n",
       "1                     2457507            73140\n",
       "2                     2457612           140216\n",
       "3                     2457746           155117\n",
       "4                     2457385           143339\n",
       "...                       ...              ...\n",
       "13120                 2457583           140547\n",
       "13121                 2457517           172446\n",
       "13122                 2457712           141836\n",
       "13123                 2457526            71451\n",
       "13124                 2457522           175350\n",
       "\n",
       "[13104 rows x 2 columns]"
      ]
     },
     "execution_count": 114,
     "metadata": {},
     "output_type": "execute_result"
    }
   ],
   "source": [
    "train[['tanggal_transaksi_awal', 'waktu_transaksi']]"
   ]
  },
  {
   "cell_type": "markdown",
   "metadata": {},
   "source": [
    "Tanggal dan waktu tersebut tampaknya cukup sulit untuk diubah ke format yang lebih umum, sehingga untuk saat ini tanggal tersebut akan diabaikan saja."
   ]
  },
  {
   "cell_type": "markdown",
   "metadata": {},
   "source": [
    "## 3. Analysis\n",
    "- Analisis Target Variable\n",
    "- Analisis Kategori\n",
    "- Analisis Numerik"
   ]
  },
  {
   "cell_type": "markdown",
   "metadata": {},
   "source": [
    "### **Analisis Target Variable**"
   ]
  },
  {
   "cell_type": "markdown",
   "metadata": {},
   "source": [
    "Target variable pada di sini adalah \"flag_transaksi_fraud\" yang menunjukkan apakah suatu transaksi adalah penipuan (dengan nilai 1) atau bukan (dengan nilai 0). "
   ]
  },
  {
   "cell_type": "code",
   "execution_count": 117,
   "metadata": {},
   "outputs": [
    {
     "name": "stdout",
     "output_type": "stream",
     "text": [
      "Jumlah total Transaksi adalah 13104\n",
      "Jumlah Transaksi Normal adalah 12210\n",
      "Jumlah transaksi fraud adalah 894\n",
      "Persentase Transaksi Fraud adalah 6.82\n"
     ]
    }
   ],
   "source": [
    "Total_transactions = len(train)\n",
    "normal = len(train[train['flag_transaksi_fraud'] == 0])\n",
    "fraudulent = len(train[train['flag_transaksi_fraud'] == 1])\n",
    "fraud_percentage = round(fraudulent/Total_transactions*100, 2)\n",
    "print('Jumlah total Transaksi adalah {}'.format(Total_transactions))\n",
    "print('Jumlah Transaksi Normal adalah {}'.format(normal))\n",
    "print('Jumlah transaksi fraud adalah {}'.format(fraudulent))\n",
    "print('Persentase Transaksi Fraud adalah {}'.format(fraud_percentage))"
   ]
  },
  {
   "cell_type": "code",
   "execution_count": 118,
   "metadata": {},
   "outputs": [
    {
     "name": "stdout",
     "output_type": "stream",
     "text": [
      "Persentase Transaksi Normal adalah 93.18\n"
     ]
    }
   ],
   "source": [
    "normal_percentage = round(normal/Total_transactions*100, 2)\n",
    "print('Persentase Transaksi Normal adalah {}'.format(normal_percentage))"
   ]
  },
  {
   "cell_type": "code",
   "execution_count": 119,
   "metadata": {},
   "outputs": [
    {
     "data": {
      "image/png": "[encoded data removed]",
      "text/plain": [
       "<Figure size 1200x500 with 2 Axes>"
      ]
     },
     "metadata": {},
     "output_type": "display_data"
    }
   ],
   "source": [
    "# Visualize\n",
    "labels = [\"Normal\", \"Fraud\"]\n",
    "\n",
    "plt.figure(figsize=(12, 5))\n",
    "\n",
    "plt.subplot(1, 2, 1)\n",
    "count_classes = train.value_counts(train['flag_transaksi_fraud'], sort=True)\n",
    "count_classes.plot(kind = \"bar\", rot = 0)\n",
    "plt.title(\"Visualisasi fraud dan transaksi normal\")\n",
    "plt.ylabel(\"Count\")\n",
    "plt.xlabel(\"Normal Vs Fraud\")\n",
    "plt.xticks(range(2), labels)\n",
    "\n",
    "# Menghitung jumlah setiap nilai dalam kolom \"flag_transaksi_fraud\"\n",
    "loan_status_counts = train['flag_transaksi_fraud'].value_counts()\n",
    "\n",
    "# Membuat pie chart\n",
    "plt.subplot(1, 2, 2)\n",
    "plt.pie(loan_status_counts, labels=loan_status_counts.index, autopct='%1.1f%%', startangle=140, colors=['skyblue', 'lightgreen'])\n",
    "plt.title('Distribusi flag_transaksi_fraud')\n",
    "plt.show()"
   ]
  },
  {
   "cell_type": "markdown",
   "metadata": {},
   "source": [
    "Seperti yang bisa kita lihat dari gambar di atas, terdapat perbedaan yang sangat besar antar transaksinya.\n",
    "\n",
    "Hanya 6,82% (894) transaksi dalam dataset yang merupakan fraud yang menunjukkan ketidakseimbangan dalam dataset."
   ]
  },
  {
   "cell_type": "markdown",
   "metadata": {},
   "source": [
    "#### **Analisis Kategori**"
   ]
  },
  {
   "cell_type": "markdown",
   "metadata": {},
   "source": [
    "#### Univariate Analysis"
   ]
  },
  {
   "cell_type": "code",
   "execution_count": 120,
   "metadata": {},
   "outputs": [],
   "source": [
    "df = train.groupby(['tipe_kartu', 'flag_transaksi_fraud']).size().reset_index()"
   ]
  },
  {
   "cell_type": "code",
   "execution_count": 121,
   "metadata": {},
   "outputs": [
    {
     "data": {
      "image/png": "[encoded data removed]",
      "text/plain": [
       "<Figure size 1700x1300 with 6 Axes>"
      ]
     },
     "metadata": {},
     "output_type": "display_data"
    }
   ],
   "source": [
    "nominal_columns = ['tipe_kartu', 'tipe_transaksi', 'kepemilikan_kartu', 'id_channel', 'id_negara', 'kuartal_transaksi']\n",
    "\n",
    "fig, axes = plt.subplots(3, 2, figsize=(17, 13))\n",
    "for idx, cat_col in enumerate(nominal_columns):\n",
    "    row, col = idx // 2, idx % 2\n",
    "    sns.countplot(x=cat_col, data=train, hue='flag_transaksi_fraud', ax=axes[row, col])\n",
    "    axes[row, col].set_title(f'flag_transaksi_fraud\\n by {cat_col}')\n",
    "    axes[row, col].set_xlabel(cat_col)\n",
    "    axes[row, col].set_ylabel('Count')\n",
    "    axes[row, col].legend(title='flag_transaksi_fraud')\n",
    "\n",
    "plt.tight_layout()\n",
    "plt.show()"
   ]
  },
  {
   "cell_type": "markdown",
   "metadata": {},
   "source": [
    "Berikut adalah beberapa hal menarik yang dapat terlihat:\n",
    "1. Pada fitur 'tipe_transaksi'. Pada fitur tersebut tipe transaksi \"156\" lebih cenderung terlibat dalam transaksi penipuan.\n",
    "2. Pada fitur 'kepemilikan_kartu'. Pada fitur tersebut kepemilikan kartu \"1\" lebih cenderung terlibat dalam transaksi penipuan.\n",
    "3. Pada fitur 'id_channel'. Pada fitur tersebut id channel \"8\" lebih cenderung terlibat dalam transaksi penipuan."
   ]
  },
  {
   "cell_type": "markdown",
   "metadata": {},
   "source": [
    "#### **Analisis Numerik**"
   ]
  },
  {
   "cell_type": "markdown",
   "metadata": {},
   "source": [
    "#### Bivariate Analysis"
   ]
  },
  {
   "cell_type": "code",
   "execution_count": 122,
   "metadata": {},
   "outputs": [
    {
     "data": {
      "image/png": "[encoded data removed]",
      "text/plain": [
       "<Figure size 1700x500 with 5 Axes>"
      ]
     },
     "metadata": {},
     "output_type": "display_data"
    }
   ],
   "source": [
    "numeric_columns = ['nilai_transaksi','rata_rata_nilai_transaksi', 'maksimum_nilai_transaksi', 'minimum_nilai_transaksi', 'rata_rata_jumlah_transaksi']\n",
    "\n",
    "fig, axes = plt.subplots(1, len(numeric_columns), figsize=(17, 5))\n",
    "for idx, cat_col in enumerate(numeric_columns):\n",
    "    sns.boxplot(y=cat_col, data=train, x='flag_transaksi_fraud', ax=axes[idx])\n",
    "    axes[idx].set_title(f'flag_transaksi_fraud\\n by {cat_col}')\n",
    "    axes[idx].set_xlabel('flag_transaksi_fraud')\n",
    "    axes[idx].set_ylabel(cat_col)\n",
    "\n",
    "plt.tight_layout()\n",
    "plt.show()"
   ]
  },
  {
   "cell_type": "markdown",
   "metadata": {},
   "source": [
    "Dari plot tersebut, dapat kita lihat beberapa outlier dari masing-masing atribut. Outlier adalah suatu titik atau kumpulan titik yang berbeda dengan titik lainnya. Terkadang nilainya bisa sangat tinggi atau sangat rendah. Karena outlier adalah salah satu alasan utama yang menghasilkan model yang kurang akurat. Oleh karena itu, akan dilakukan Metode IQR untuk menghapusnya."
   ]
  },
  {
   "cell_type": "markdown",
   "metadata": {},
   "source": [
    "IQR adalah perbedaan antara kuartil ketiga (Q3) dan kuartil pertama (Q1). Outliers biasanya dianggap sebagai data yang berada di luar rentang (Q1 - 1.5 * IQR, Q3 + 1.5 * IQR)"
   ]
  },
  {
   "cell_type": "code",
   "execution_count": 123,
   "metadata": {},
   "outputs": [],
   "source": [
    "def remove_outliers(train, columns):\n",
    "    for column in columns:\n",
    "        Q1 = train[column].quantile(0.25)\n",
    "        Q3 = train[column].quantile(0.75)\n",
    "        IQR = Q3 - Q1\n",
    "        lower_bound = Q1 - 1.5 * IQR\n",
    "        upper_bound = Q3 + 1.5 * IQR\n",
    "        train = train[(train[column] >= lower_bound) & (train[column] <= upper_bound)]\n",
    "    return train\n",
    "\n",
    "outlier_columns = [\n",
    "    \"nilai_transaksi\",\n",
    "    \"rata_rata_jumlah_transaksi\",\n",
    "    \"minimum_nilai_transaksi\",\n",
    "    \"maksimum_nilai_transaksi\",\n",
    "    \"rata_rata_nilai_transaksi\",\n",
    "]\n",
    "\n",
    "train = remove_outliers(train, outlier_columns)"
   ]
  },
  {
   "cell_type": "code",
   "execution_count": 124,
   "metadata": {},
   "outputs": [
    {
     "data": {
      "text/plain": [
       "(9326, 15)"
      ]
     },
     "execution_count": 124,
     "metadata": {},
     "output_type": "execute_result"
    }
   ],
   "source": [
    "train.shape"
   ]
  },
  {
   "cell_type": "markdown",
   "metadata": {},
   "source": [
    "Sekarang kita akan lihat lagi plot setelah dilakukan penghapusan outliers"
   ]
  },
  {
   "cell_type": "code",
   "execution_count": 125,
   "metadata": {},
   "outputs": [
    {
     "data": {
      "image/png": "[encoded data removed]",
      "text/plain": [
       "<Figure size 1700x500 with 5 Axes>"
      ]
     },
     "metadata": {},
     "output_type": "display_data"
    }
   ],
   "source": [
    "numeric_columns = ['nilai_transaksi','rata_rata_nilai_transaksi', 'maksimum_nilai_transaksi', 'minimum_nilai_transaksi', 'rata_rata_jumlah_transaksi']\n",
    "\n",
    "fig, axes = plt.subplots(1, len(numeric_columns), figsize=(17, 5))\n",
    "for idx, cat_col in enumerate(numeric_columns):\n",
    "    sns.boxplot(y=cat_col, data=train, x='flag_transaksi_fraud', ax=axes[idx])\n",
    "    axes[idx].set_title(f'flag_transaksi_fraud\\n by {cat_col}')\n",
    "    axes[idx].set_xlabel('flag_transaksi_fraud')\n",
    "    axes[idx].set_ylabel(cat_col)\n",
    "\n",
    "plt.tight_layout()\n",
    "plt.show()"
   ]
  },
  {
   "cell_type": "markdown",
   "metadata": {},
   "source": [
    "Dari plot tersebut terlihat bahwa persebaran \"nilai_transaksi\" dan \"minimum_nilai_transaksi\" pada transaksi fraud cenderung lebih tinggi daripada transaksi normal. "
   ]
  },
  {
   "cell_type": "markdown",
   "metadata": {},
   "source": [
    "#### Multivariate Analysis"
   ]
  },
  {
   "cell_type": "code",
   "execution_count": 126,
   "metadata": {},
   "outputs": [],
   "source": [
    "# sns.pairplot(train, hue=\"flag_transaksi_fraud\", vars=['nilai_transaksi','rata_rata_nilai_transaksi', 'maksimum_nilai_transaksi', 'minimum_nilai_transaksi', 'rata_rata_jumlah_transaksi'], kind='reg')"
   ]
  },
  {
   "cell_type": "code",
   "execution_count": 127,
   "metadata": {},
   "outputs": [
    {
     "data": {
      "image/png": "[encoded data removed]",
      "text/plain": [
       "<Figure size 640x480 with 2 Axes>"
      ]
     },
     "metadata": {},
     "output_type": "display_data"
    }
   ],
   "source": [
    "matrix = train[['nilai_transaksi','rata_rata_nilai_transaksi', 'maksimum_nilai_transaksi', 'minimum_nilai_transaksi', 'rata_rata_jumlah_transaksi']].corr()\n",
    "sns.heatmap(matrix, cmap=\"BuPu\",annot=True);"
   ]
  },
  {
   "cell_type": "markdown",
   "metadata": {},
   "source": [
    "Dari plot tersebut kita dapat melihat korelasi yang paling kuat yaitu \"maksimum_nilai_transaksi\" dengan \"rata_rata_nilai_transaksi\""
   ]
  },
  {
   "cell_type": "markdown",
   "metadata": {},
   "source": [
    "# 4. Model Building"
   ]
  },
  {
   "cell_type": "markdown",
   "metadata": {},
   "source": [
    "#### Label Encoding\n",
    "Mengonversi nilai kategori menjadi bilangan bulat. Setiap kategori diberi label unik dalam bentuk bilangan bulat."
   ]
  },
  {
   "cell_type": "code",
   "execution_count": 129,
   "metadata": {},
   "outputs": [
    {
     "data": {
      "text/plain": [
       "[0, 1]"
      ]
     },
     "execution_count": 129,
     "metadata": {},
     "output_type": "execute_result"
    }
   ],
   "source": [
    "from sklearn.preprocessing import LabelEncoder\n",
    "label_encoder = LabelEncoder()\n",
    "train['flag_transaksi_fraud'] = label_encoder.fit_transform(train['flag_transaksi_fraud'])\n",
    "list(label_encoder.classes_)"
   ]
  },
  {
   "cell_type": "markdown",
   "metadata": {},
   "source": [
    "#### Memisahkan Variable Feature dengan Variable Target"
   ]
  },
  {
   "cell_type": "markdown",
   "metadata": {},
   "source": [
    "Buat variabel feature dengan droping variable target \"flag_transaksi_fraud\""
   ]
  },
  {
   "cell_type": "code",
   "execution_count": 130,
   "metadata": {},
   "outputs": [],
   "source": [
    "# isi X dengan variabel fiture\n",
    "X = train.drop(columns=['flag_transaksi_fraud'])"
   ]
  },
  {
   "cell_type": "code",
   "execution_count": 131,
   "metadata": {},
   "outputs": [
    {
     "data": {
      "text/html": [
       "<div>\n",
       "<style scoped>\n",
       "    .dataframe tbody tr th:only-of-type {\n",
       "        vertical-align: middle;\n",
       "    }\n",
       "\n",
       "    .dataframe tbody tr th {\n",
       "        vertical-align: top;\n",
       "    }\n",
       "\n",
       "    .dataframe thead th {\n",
       "        text-align: right;\n",
       "    }\n",
       "</style>\n",
       "<table border=\"1\" class=\"dataframe\">\n",
       "  <thead>\n",
       "    <tr style=\"text-align: right;\">\n",
       "      <th></th>\n",
       "      <th>tanggal_transaksi_awal</th>\n",
       "      <th>tipe_kartu</th>\n",
       "      <th>tipe_transaksi</th>\n",
       "      <th>nilai_transaksi</th>\n",
       "      <th>id_negara</th>\n",
       "      <th>nama_kota</th>\n",
       "      <th>waktu_transaksi</th>\n",
       "      <th>kuartal_transaksi</th>\n",
       "      <th>kepemilikan_kartu</th>\n",
       "      <th>id_channel</th>\n",
       "      <th>rata_rata_nilai_transaksi</th>\n",
       "      <th>maksimum_nilai_transaksi</th>\n",
       "      <th>minimum_nilai_transaksi</th>\n",
       "      <th>rata_rata_jumlah_transaksi</th>\n",
       "    </tr>\n",
       "  </thead>\n",
       "  <tbody>\n",
       "    <tr>\n",
       "      <th>0</th>\n",
       "      <td>2457726</td>\n",
       "      <td>111</td>\n",
       "      <td>26</td>\n",
       "      <td>2200000.0</td>\n",
       "      <td>96</td>\n",
       "      <td>265</td>\n",
       "      <td>193955</td>\n",
       "      <td>4</td>\n",
       "      <td>2</td>\n",
       "      <td>9</td>\n",
       "      <td>1332292.784</td>\n",
       "      <td>9750000.0</td>\n",
       "      <td>10000.0</td>\n",
       "      <td>2.73</td>\n",
       "    </tr>\n",
       "    <tr>\n",
       "      <th>1</th>\n",
       "      <td>2457507</td>\n",
       "      <td>111</td>\n",
       "      <td>156</td>\n",
       "      <td>2500000.0</td>\n",
       "      <td>96</td>\n",
       "      <td>121</td>\n",
       "      <td>73140</td>\n",
       "      <td>2</td>\n",
       "      <td>1</td>\n",
       "      <td>8</td>\n",
       "      <td>1369047.619</td>\n",
       "      <td>10000000.0</td>\n",
       "      <td>30000.0</td>\n",
       "      <td>2.33</td>\n",
       "    </tr>\n",
       "  </tbody>\n",
       "</table>\n",
       "</div>"
      ],
      "text/plain": [
       "   tanggal_transaksi_awal tipe_kartu tipe_transaksi  nilai_transaksi  \\\n",
       "0                 2457726        111             26        2200000.0   \n",
       "1                 2457507        111            156        2500000.0   \n",
       "\n",
       "  id_negara nama_kota  waktu_transaksi kuartal_transaksi kepemilikan_kartu  \\\n",
       "0        96       265           193955                 4                 2   \n",
       "1        96       121            73140                 2                 1   \n",
       "\n",
       "  id_channel  rata_rata_nilai_transaksi  maksimum_nilai_transaksi  \\\n",
       "0          9                1332292.784                 9750000.0   \n",
       "1          8                1369047.619                10000000.0   \n",
       "\n",
       "   minimum_nilai_transaksi  rata_rata_jumlah_transaksi  \n",
       "0                  10000.0                        2.73  \n",
       "1                  30000.0                        2.33  "
      ]
     },
     "execution_count": 131,
     "metadata": {},
     "output_type": "execute_result"
    }
   ],
   "source": [
    "X.head(2)"
   ]
  },
  {
   "cell_type": "markdown",
   "metadata": {},
   "source": [
    "Simpan variabel target \"flag_transaksi_fraud\" di dataframe lain"
   ]
  },
  {
   "cell_type": "code",
   "execution_count": 132,
   "metadata": {},
   "outputs": [],
   "source": [
    "# isi y dengan variabel target\n",
    "y = train[['flag_transaksi_fraud']]"
   ]
  },
  {
   "cell_type": "code",
   "execution_count": 133,
   "metadata": {},
   "outputs": [
    {
     "data": {
      "text/html": [
       "<div>\n",
       "<style scoped>\n",
       "    .dataframe tbody tr th:only-of-type {\n",
       "        vertical-align: middle;\n",
       "    }\n",
       "\n",
       "    .dataframe tbody tr th {\n",
       "        vertical-align: top;\n",
       "    }\n",
       "\n",
       "    .dataframe thead th {\n",
       "        text-align: right;\n",
       "    }\n",
       "</style>\n",
       "<table border=\"1\" class=\"dataframe\">\n",
       "  <thead>\n",
       "    <tr style=\"text-align: right;\">\n",
       "      <th></th>\n",
       "      <th>flag_transaksi_fraud</th>\n",
       "    </tr>\n",
       "  </thead>\n",
       "  <tbody>\n",
       "    <tr>\n",
       "      <th>0</th>\n",
       "      <td>0</td>\n",
       "    </tr>\n",
       "    <tr>\n",
       "      <th>1</th>\n",
       "      <td>1</td>\n",
       "    </tr>\n",
       "  </tbody>\n",
       "</table>\n",
       "</div>"
      ],
      "text/plain": [
       "   flag_transaksi_fraud\n",
       "0                     0\n",
       "1                     1"
      ]
     },
     "execution_count": 133,
     "metadata": {},
     "output_type": "execute_result"
    }
   ],
   "source": [
    "y.head(2)"
   ]
  },
  {
   "cell_type": "markdown",
   "metadata": {},
   "source": [
    "#### One Hot Encoding"
   ]
  },
  {
   "cell_type": "markdown",
   "metadata": {},
   "source": [
    "Sekarang kita akan membuat variabel dummy untuk variabel kategorikal. Variabel dummy mengubah variabel kategorikal menjadi serangkaian angka 0 dan 1, sehingga lebih mudah untuk diukur dan dibandingkan."
   ]
  },
  {
   "cell_type": "markdown",
   "metadata": {},
   "source": [
    "Karena beberapa algoritma Machine Learning hanya menerima nilai numerik sebagai input, kita harus mengubah nilai kategori menjadi nilai numerik."
   ]
  },
  {
   "cell_type": "code",
   "execution_count": 134,
   "metadata": {},
   "outputs": [],
   "source": [
    "X = pd.get_dummies(X)"
   ]
  },
  {
   "cell_type": "code",
   "execution_count": 135,
   "metadata": {},
   "outputs": [
    {
     "data": {
      "text/html": [
       "<div>\n",
       "<style scoped>\n",
       "    .dataframe tbody tr th:only-of-type {\n",
       "        vertical-align: middle;\n",
       "    }\n",
       "\n",
       "    .dataframe tbody tr th {\n",
       "        vertical-align: top;\n",
       "    }\n",
       "\n",
       "    .dataframe thead th {\n",
       "        text-align: right;\n",
       "    }\n",
       "</style>\n",
       "<table border=\"1\" class=\"dataframe\">\n",
       "  <thead>\n",
       "    <tr style=\"text-align: right;\">\n",
       "      <th></th>\n",
       "      <th>tanggal_transaksi_awal</th>\n",
       "      <th>nilai_transaksi</th>\n",
       "      <th>waktu_transaksi</th>\n",
       "      <th>rata_rata_nilai_transaksi</th>\n",
       "      <th>maksimum_nilai_transaksi</th>\n",
       "      <th>minimum_nilai_transaksi</th>\n",
       "      <th>rata_rata_jumlah_transaksi</th>\n",
       "      <th>tipe_kartu_0</th>\n",
       "      <th>tipe_kartu_1</th>\n",
       "      <th>tipe_kartu_2</th>\n",
       "      <th>tipe_kartu_3</th>\n",
       "      <th>tipe_kartu_4</th>\n",
       "      <th>tipe_kartu_5</th>\n",
       "      <th>tipe_kartu_24</th>\n",
       "      <th>...</th>\n",
       "      <th>nama_kota_283</th>\n",
       "      <th>nama_kota_284</th>\n",
       "      <th>nama_kota_288</th>\n",
       "      <th>nama_kota_293</th>\n",
       "      <th>kuartal_transaksi_1</th>\n",
       "      <th>kuartal_transaksi_2</th>\n",
       "      <th>kuartal_transaksi_3</th>\n",
       "      <th>kuartal_transaksi_4</th>\n",
       "      <th>kepemilikan_kartu_1</th>\n",
       "      <th>kepemilikan_kartu_2</th>\n",
       "      <th>id_channel_3</th>\n",
       "      <th>id_channel_4</th>\n",
       "      <th>id_channel_8</th>\n",
       "      <th>id_channel_9</th>\n",
       "    </tr>\n",
       "  </thead>\n",
       "  <tbody>\n",
       "    <tr>\n",
       "      <th>0</th>\n",
       "      <td>2457726</td>\n",
       "      <td>2200000.0</td>\n",
       "      <td>193955</td>\n",
       "      <td>1.332293e+06</td>\n",
       "      <td>9750000.0</td>\n",
       "      <td>10000.0</td>\n",
       "      <td>2.73</td>\n",
       "      <td>0</td>\n",
       "      <td>0</td>\n",
       "      <td>0</td>\n",
       "      <td>0</td>\n",
       "      <td>0</td>\n",
       "      <td>0</td>\n",
       "      <td>0</td>\n",
       "      <td>...</td>\n",
       "      <td>0</td>\n",
       "      <td>0</td>\n",
       "      <td>0</td>\n",
       "      <td>0</td>\n",
       "      <td>0</td>\n",
       "      <td>0</td>\n",
       "      <td>0</td>\n",
       "      <td>1</td>\n",
       "      <td>0</td>\n",
       "      <td>1</td>\n",
       "      <td>0</td>\n",
       "      <td>0</td>\n",
       "      <td>0</td>\n",
       "      <td>1</td>\n",
       "    </tr>\n",
       "    <tr>\n",
       "      <th>1</th>\n",
       "      <td>2457507</td>\n",
       "      <td>2500000.0</td>\n",
       "      <td>73140</td>\n",
       "      <td>1.369048e+06</td>\n",
       "      <td>10000000.0</td>\n",
       "      <td>30000.0</td>\n",
       "      <td>2.33</td>\n",
       "      <td>0</td>\n",
       "      <td>0</td>\n",
       "      <td>0</td>\n",
       "      <td>0</td>\n",
       "      <td>0</td>\n",
       "      <td>0</td>\n",
       "      <td>0</td>\n",
       "      <td>...</td>\n",
       "      <td>0</td>\n",
       "      <td>0</td>\n",
       "      <td>0</td>\n",
       "      <td>0</td>\n",
       "      <td>0</td>\n",
       "      <td>1</td>\n",
       "      <td>0</td>\n",
       "      <td>0</td>\n",
       "      <td>1</td>\n",
       "      <td>0</td>\n",
       "      <td>0</td>\n",
       "      <td>0</td>\n",
       "      <td>1</td>\n",
       "      <td>0</td>\n",
       "    </tr>\n",
       "    <tr>\n",
       "      <th>3</th>\n",
       "      <td>2457746</td>\n",
       "      <td>320000.0</td>\n",
       "      <td>155117</td>\n",
       "      <td>7.117647e+05</td>\n",
       "      <td>6884408.0</td>\n",
       "      <td>10000.0</td>\n",
       "      <td>1.98</td>\n",
       "      <td>0</td>\n",
       "      <td>0</td>\n",
       "      <td>0</td>\n",
       "      <td>0</td>\n",
       "      <td>0</td>\n",
       "      <td>0</td>\n",
       "      <td>0</td>\n",
       "      <td>...</td>\n",
       "      <td>0</td>\n",
       "      <td>0</td>\n",
       "      <td>0</td>\n",
       "      <td>0</td>\n",
       "      <td>0</td>\n",
       "      <td>0</td>\n",
       "      <td>1</td>\n",
       "      <td>0</td>\n",
       "      <td>0</td>\n",
       "      <td>1</td>\n",
       "      <td>0</td>\n",
       "      <td>1</td>\n",
       "      <td>0</td>\n",
       "      <td>0</td>\n",
       "    </tr>\n",
       "  </tbody>\n",
       "</table>\n",
       "<p>3 rows × 293 columns</p>\n",
       "</div>"
      ],
      "text/plain": [
       "   tanggal_transaksi_awal  nilai_transaksi  waktu_transaksi  \\\n",
       "0                 2457726        2200000.0           193955   \n",
       "1                 2457507        2500000.0            73140   \n",
       "3                 2457746         320000.0           155117   \n",
       "\n",
       "   rata_rata_nilai_transaksi  maksimum_nilai_transaksi  \\\n",
       "0               1.332293e+06                 9750000.0   \n",
       "1               1.369048e+06                10000000.0   \n",
       "3               7.117647e+05                 6884408.0   \n",
       "\n",
       "   minimum_nilai_transaksi  rata_rata_jumlah_transaksi  tipe_kartu_0  \\\n",
       "0                  10000.0                        2.73             0   \n",
       "1                  30000.0                        2.33             0   \n",
       "3                  10000.0                        1.98             0   \n",
       "\n",
       "   tipe_kartu_1  tipe_kartu_2  tipe_kartu_3  tipe_kartu_4  tipe_kartu_5  \\\n",
       "0             0             0             0             0             0   \n",
       "1             0             0             0             0             0   \n",
       "3             0             0             0             0             0   \n",
       "\n",
       "   tipe_kartu_24  ...  nama_kota_283  nama_kota_284  nama_kota_288  \\\n",
       "0              0  ...              0              0              0   \n",
       "1              0  ...              0              0              0   \n",
       "3              0  ...              0              0              0   \n",
       "\n",
       "   nama_kota_293  kuartal_transaksi_1  kuartal_transaksi_2  \\\n",
       "0              0                    0                    0   \n",
       "1              0                    0                    1   \n",
       "3              0                    0                    0   \n",
       "\n",
       "   kuartal_transaksi_3  kuartal_transaksi_4  kepemilikan_kartu_1  \\\n",
       "0                    0                    1                    0   \n",
       "1                    0                    0                    1   \n",
       "3                    1                    0                    0   \n",
       "\n",
       "   kepemilikan_kartu_2  id_channel_3  id_channel_4  id_channel_8  id_channel_9  \n",
       "0                    1             0             0             0             1  \n",
       "1                    0             0             0             1             0  \n",
       "3                    1             0             1             0             0  \n",
       "\n",
       "[3 rows x 293 columns]"
      ]
     },
     "execution_count": 135,
     "metadata": {},
     "output_type": "execute_result"
    }
   ],
   "source": [
    "X.head(3)"
   ]
  },
  {
   "cell_type": "markdown",
   "metadata": {},
   "source": [
    "#### Penanganan Data Imbalance\n",
    "Terdapat ketimpangan antara data dengan target 1 dan 0 pada flag_transaksi_fraud. Kita akan menggunakan metode Resampling untuk menaikan jumlah data minoritas menggunakan Smote."
   ]
  },
  {
   "cell_type": "code",
   "execution_count": 136,
   "metadata": {},
   "outputs": [],
   "source": [
    "from imblearn.over_sampling import SMOTE\n",
    "over = SMOTE()\n",
    "X, y = over.fit_resample(X, y)"
   ]
  },
  {
   "cell_type": "markdown",
   "metadata": {},
   "source": [
    "Visualisasi variable target setalah dilakukan oversampling"
   ]
  },
  {
   "cell_type": "code",
   "execution_count": 137,
   "metadata": {},
   "outputs": [
    {
     "data": {
      "image/png": "[encoded data removed]",
      "text/plain": [
       "<Figure size 1200x500 with 2 Axes>"
      ]
     },
     "metadata": {},
     "output_type": "display_data"
    }
   ],
   "source": [
    "# Visualize\n",
    "labels = [\"Normal\", \"Fraud\"]\n",
    "\n",
    "plt.figure(figsize=(12, 5))\n",
    "\n",
    "plt.subplot(1, 2, 1)\n",
    "count_classes = y.value_counts(y['flag_transaksi_fraud'], sort=True)\n",
    "count_classes.plot(kind = \"bar\", rot = 0)\n",
    "plt.title(\"Visualisasi fraud dan transaksi normal\")\n",
    "plt.ylabel(\"Count\")\n",
    "plt.xlabel(\"Normal Vs Fraud\")\n",
    "plt.xticks(range(2), labels)\n",
    "\n",
    "# Menghitung jumlah setiap nilai dalam kolom \"flag_transaksi_fraud\"\n",
    "loan_status_counts = y['flag_transaksi_fraud'].value_counts()\n",
    "\n",
    "# Membuat pie chart\n",
    "plt.subplot(1, 2, 2)\n",
    "plt.pie(loan_status_counts, labels=loan_status_counts.index, autopct='%1.1f%%', startangle=140, colors=['skyblue', 'lightgreen'])\n",
    "plt.title('Distribusi flag_transaksi_fraud')\n",
    "plt.show()"
   ]
  },
  {
   "cell_type": "code",
   "execution_count": 138,
   "metadata": {},
   "outputs": [
    {
     "name": "stdout",
     "output_type": "stream",
     "text": [
      "(17490, 293)\n",
      "(17490, 1)\n"
     ]
    }
   ],
   "source": [
    "print(X.shape)\n",
    "print(y.shape)"
   ]
  },
  {
   "cell_type": "markdown",
   "metadata": {},
   "source": [
    "#### Split Data"
   ]
  },
  {
   "cell_type": "code",
   "execution_count": 139,
   "metadata": {},
   "outputs": [],
   "source": [
    "from sklearn.model_selection import train_test_split\n",
    "\n",
    "x_train, x_cv, y_train, y_cv = train_test_split(X, y, test_size=0.2, random_state=1)"
   ]
  },
  {
   "cell_type": "markdown",
   "metadata": {},
   "source": [
    "Dataset telah dibagi menjadi bagian pelatihan dan validasi.\n",
    "\n",
    "Sebanyak 80% data akan digunakan untuk melatih model dan 20% data lainnya akan digunakan untuk memeriksa validasi model. "
   ]
  },
  {
   "cell_type": "markdown",
   "metadata": {},
   "source": [
    "### Naive Bayes"
   ]
  },
  {
   "cell_type": "code",
   "execution_count": 140,
   "metadata": {},
   "outputs": [
    {
     "name": "stdout",
     "output_type": "stream",
     "text": [
      "Akurasi 0.6703830760434534\n",
      "              precision    recall  f1-score   support\n",
      "\n",
      "           0       0.67      0.69      0.68      1757\n",
      "           1       0.68      0.65      0.66      1741\n",
      "\n",
      "    accuracy                           0.67      3498\n",
      "   macro avg       0.67      0.67      0.67      3498\n",
      "weighted avg       0.67      0.67      0.67      3498\n",
      "\n",
      "[0, 1]\n"
     ]
    }
   ],
   "source": [
    "from sklearn.naive_bayes import GaussianNB\n",
    "from sklearn.metrics import classification_report\n",
    "from sklearn.metrics import accuracy_score\n",
    "\n",
    "nb_model = GaussianNB()\n",
    "nb_model.fit(x_train, y_train) #latih nb_model dengan metode fit() menggunakan data train\n",
    "Y_pred = nb_model.predict(x_cv) #gunakan model untuk membuat prediksi menggunakan data X validasi\n",
    "acc = accuracy_score(y_cv, Y_pred) #buat skor akurasi dengan membandingkan hasil prediksi dengan data y validasi\n",
    "\n",
    "print(\"Akurasi {}\".format(acc))\n",
    "print(classification_report(y_cv, Y_pred))"
   ]
  },
  {
   "cell_type": "markdown",
   "metadata": {},
   "source": [
    "### Decision Tree"
   ]
  },
  {
   "cell_type": "code",
   "execution_count": 141,
   "metadata": {},
   "outputs": [
    {
     "name": "stdout",
     "output_type": "stream",
     "text": [
      "Akurasi 94.31103487707261\n",
      "              precision    recall  f1-score   support\n",
      "\n",
      "           0       0.67      0.69      0.68      1757\n",
      "           1       0.68      0.65      0.66      1741\n",
      "\n",
      "    accuracy                           0.67      3498\n",
      "   macro avg       0.67      0.67      0.67      3498\n",
      "weighted avg       0.67      0.67      0.67      3498\n",
      "\n",
      "[0, 1]\n"
     ]
    }
   ],
   "source": [
    "from sklearn.tree import DecisionTreeClassifier\n",
    "tree_model = DecisionTreeClassifier(random_state=1)\n",
    "tree_model.fit(x_train,y_train)\n",
    "pred_cv_tree=tree_model.predict(x_cv)\n",
    "score_tree =accuracy_score(pred_cv_tree,y_cv)*100\n",
    "\n",
    "print(\"Akurasi {}\".format(score_tree))\n",
    "print(classification_report(y_cv, Y_pred))\n",
    "print(list(label_encoder.classes_))"
   ]
  },
  {
   "cell_type": "markdown",
   "metadata": {},
   "source": [
    "### Random Forest"
   ]
  },
  {
   "cell_type": "code",
   "execution_count": 142,
   "metadata": {},
   "outputs": [
    {
     "name": "stdout",
     "output_type": "stream",
     "text": [
      "akurasi: 92.59576901086335\n",
      "              precision    recall  f1-score   support\n",
      "\n",
      "           0       0.90      0.95      0.93      1757\n",
      "           1       0.95      0.90      0.92      1741\n",
      "\n",
      "    accuracy                           0.93      3498\n",
      "   macro avg       0.93      0.93      0.93      3498\n",
      "weighted avg       0.93      0.93      0.93      3498\n",
      "\n"
     ]
    }
   ],
   "source": [
    "from sklearn.ensemble import RandomForestClassifier\n",
    "forest_model = RandomForestClassifier(random_state=1,max_depth=10,n_estimators=50)\n",
    "forest_model.fit(x_train,y_train)\n",
    "pred_cv_forest=forest_model.predict(x_cv)\n",
    "score_forest = accuracy_score(pred_cv_forest,y_cv)*100\n",
    "print(\"akurasi:\",score_forest)\n",
    "print(classification_report(y_cv, pred_cv_forest))"
   ]
  },
  {
   "cell_type": "markdown",
   "metadata": {},
   "source": [
    "### XGBoost"
   ]
  },
  {
   "cell_type": "code",
   "execution_count": 143,
   "metadata": {},
   "outputs": [
    {
     "name": "stdout",
     "output_type": "stream",
     "text": [
      "Akurasi :  96.96969696969697\n",
      "              precision    recall  f1-score   support\n",
      "\n",
      "           0       0.96      0.98      0.97      1757\n",
      "           1       0.98      0.96      0.97      1741\n",
      "\n",
      "    accuracy                           0.97      3498\n",
      "   macro avg       0.97      0.97      0.97      3498\n",
      "weighted avg       0.97      0.97      0.97      3498\n",
      "\n"
     ]
    }
   ],
   "source": [
    "from xgboost import XGBClassifier\n",
    "xgb_model = XGBClassifier(n_estimators=50,max_depth=7)\n",
    "xgb_model.fit(x_train,y_train)\n",
    "pred_xgb=xgb_model.predict(x_cv)\n",
    "score_xgb = accuracy_score(pred_xgb,y_cv)*100\n",
    "print(\"Akurasi : \", score_xgb)\n",
    "print(classification_report(y_cv, pred_xgb))"
   ]
  },
  {
   "cell_type": "markdown",
   "metadata": {},
   "source": [
    "### Important feature"
   ]
  },
  {
   "cell_type": "code",
   "execution_count": 144,
   "metadata": {},
   "outputs": [
    {
     "name": "stdout",
     "output_type": "stream",
     "text": [
      "                     importance\n",
      "kepemilikan_kartu_2    0.478280\n",
      "kuartal_transaksi_1    0.044607\n",
      "kuartal_transaksi_4    0.037661\n",
      "tipe_kartu_93          0.028309\n",
      "kuartal_transaksi_2    0.027216\n",
      "...                         ...\n",
      "nama_kota_99           0.000000\n",
      "nama_kota_100          0.000000\n",
      "nama_kota_105          0.000000\n",
      "nama_kota_107          0.000000\n",
      "nama_kota_125          0.000000\n",
      "\n",
      "[293 rows x 1 columns]\n"
     ]
    }
   ],
   "source": [
    "feature_importances = pd.DataFrame(xgb_model.feature_importances_,index = x_train.columns, columns=['importance']).sort_values('importance',ascending=False)\n",
    "\n",
    "print(feature_importances)\n"
   ]
  }
 ],
 "metadata": {
  "kernelspec": {
   "display_name": "Python 3 (ipykernel)",
   "language": "python",
   "name": "python3"
  },
  "language_info": {
   "codemirror_mode": {
    "name": "ipython",
    "version": 3
   },
   "file_extension": ".py",
   "mimetype": "text/x-python",
   "name": "python",
   "nbconvert_exporter": "python",
   "pygments_lexer": "ipython3",
   "version": "3.11.4"
  }
 },
 "nbformat": 4,
 "nbformat_minor": 2
}
